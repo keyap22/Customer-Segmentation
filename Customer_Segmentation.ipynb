{
  "nbformat": 4,
  "nbformat_minor": 0,
  "metadata": {
    "colab": {
      "provenance": [],
      "include_colab_link": true
    },
    "kernelspec": {
      "display_name": "Python 3",
      "name": "python3"
    },
    "language_info": {
      "name": "python"
    },
    "accelerator": "GPU"
  },
  "cells": [
    {
      "cell_type": "markdown",
      "metadata": {
        "id": "view-in-github",
        "colab_type": "text"
      },
      "source": [
        "<a href=\"https://colab.research.google.com/github/keyap22/Customer-Segmentation/blob/main/Customer_Segmentation.ipynb\" target=\"_parent\"><img src=\"https://colab.research.google.com/assets/colab-badge.svg\" alt=\"Open In Colab\"/></a>"
      ]
    },
    {
      "cell_type": "markdown",
      "metadata": {
        "id": "AuBtvC0e2oix"
      },
      "source": [
        "###Overview"
      ]
    },
    {
      "cell_type": "markdown",
      "metadata": {
        "id": "i-MuPvlJ2seh"
      },
      "source": [
        "This is a transactional data set which contains all the transactions occurring between 01/12/2010 and 09/12/2011 for a UK-based and registered non-store online retail.The company mainly sells unique all-occasion gifts. Many customers of the company are wholesalers.\n",
        "\n"
      ]
    },
    {
      "cell_type": "markdown",
      "metadata": {
        "id": "bt_zKDBl7VoR"
      },
      "source": [
        "### Goal\n",
        "\n",
        "Our aim is to segment the Customers based on RFM(Recency, Frequency, Monetary) so that the company can target its customers efficiently."
      ]
    },
    {
      "cell_type": "markdown",
      "metadata": {
        "id": "QxtKTWKr70oM"
      },
      "source": [
        "The steps are broadly divided into:\n",
        "\n",
        "Step 1: Reading and Understanding the Data\n",
        "\n",
        "Step 2: Data Cleaning\n",
        "\n",
        "Step 3: Data Preparation\n",
        "\n",
        "Step 4: Model Building\n",
        "\n",
        "Step 5: Final Analysis"
      ]
    },
    {
      "cell_type": "markdown",
      "metadata": {
        "id": "Pzogjx1F8GXA"
      },
      "source": [
        "### Step 1 : Reading and Understanding Data"
      ]
    },
    {
      "cell_type": "code",
      "metadata": {
        "id": "kPIqWArNgenq"
      },
      "source": [
        "import numpy as np\n",
        "import pandas as pd\n",
        "from sklearn.cluster import KMeans\n",
        "import matplotlib.pyplot as plt\n",
        "import seaborn as sns\n",
        "import datetime as dt\n",
        "from dateutil import parser\n",
        "from sklearn.preprocessing import StandardScaler\n",
        "import plotly.express as px"
      ],
      "execution_count": null,
      "outputs": []
    },
    {
      "cell_type": "code",
      "metadata": {
        "id": "hnrGdEyyyH_y",
        "colab": {
          "base_uri": "https://localhost:8080/"
        },
        "outputId": "e9407c3c-702e-4782-d90e-636324d0d19b"
      },
      "source": [
        "from google.colab import drive\n",
        "drive.mount('/content/drive')"
      ],
      "execution_count": null,
      "outputs": [
        {
          "output_type": "stream",
          "name": "stdout",
          "text": [
            "Mounted at /content/drive\n"
          ]
        }
      ]
    },
    {
      "cell_type": "code",
      "metadata": {
        "id": "owsKS80G1ea7",
        "colab": {
          "base_uri": "https://localhost:8080/",
          "height": 336
        },
        "outputId": "a61d13de-6800-427f-ffca-a2399dceaba2"
      },
      "source": [
        "df = pd.read_csv(\"/content/drive/MyDrive/OnlineRetail.csv\", encoding= 'unicode_escape')"
      ],
      "execution_count": null,
      "outputs": [
        {
          "output_type": "error",
          "ename": "FileNotFoundError",
          "evalue": "ignored",
          "traceback": [
            "\u001b[0;31m---------------------------------------------------------------------------\u001b[0m",
            "\u001b[0;31mFileNotFoundError\u001b[0m                         Traceback (most recent call last)",
            "\u001b[0;32m<ipython-input-4-d761d3bc656c>\u001b[0m in \u001b[0;36m<cell line: 1>\u001b[0;34m()\u001b[0m\n\u001b[0;32m----> 1\u001b[0;31m \u001b[0mdf\u001b[0m \u001b[0;34m=\u001b[0m \u001b[0mpd\u001b[0m\u001b[0;34m.\u001b[0m\u001b[0mread_csv\u001b[0m\u001b[0;34m(\u001b[0m\u001b[0;34m\"/content/drive/MyDrive/OnlineRetail.csv\"\u001b[0m\u001b[0;34m,\u001b[0m \u001b[0mencoding\u001b[0m\u001b[0;34m=\u001b[0m \u001b[0;34m'unicode_escape'\u001b[0m\u001b[0;34m)\u001b[0m\u001b[0;34m\u001b[0m\u001b[0;34m\u001b[0m\u001b[0m\n\u001b[0m",
            "\u001b[0;32m/usr/local/lib/python3.9/dist-packages/pandas/util/_decorators.py\u001b[0m in \u001b[0;36mwrapper\u001b[0;34m(*args, **kwargs)\u001b[0m\n\u001b[1;32m    209\u001b[0m                 \u001b[0;32melse\u001b[0m\u001b[0;34m:\u001b[0m\u001b[0;34m\u001b[0m\u001b[0;34m\u001b[0m\u001b[0m\n\u001b[1;32m    210\u001b[0m                     \u001b[0mkwargs\u001b[0m\u001b[0;34m[\u001b[0m\u001b[0mnew_arg_name\u001b[0m\u001b[0;34m]\u001b[0m \u001b[0;34m=\u001b[0m \u001b[0mnew_arg_value\u001b[0m\u001b[0;34m\u001b[0m\u001b[0;34m\u001b[0m\u001b[0m\n\u001b[0;32m--> 211\u001b[0;31m             \u001b[0;32mreturn\u001b[0m \u001b[0mfunc\u001b[0m\u001b[0;34m(\u001b[0m\u001b[0;34m*\u001b[0m\u001b[0margs\u001b[0m\u001b[0;34m,\u001b[0m \u001b[0;34m**\u001b[0m\u001b[0mkwargs\u001b[0m\u001b[0;34m)\u001b[0m\u001b[0;34m\u001b[0m\u001b[0;34m\u001b[0m\u001b[0m\n\u001b[0m\u001b[1;32m    212\u001b[0m \u001b[0;34m\u001b[0m\u001b[0m\n\u001b[1;32m    213\u001b[0m         \u001b[0;32mreturn\u001b[0m \u001b[0mcast\u001b[0m\u001b[0;34m(\u001b[0m\u001b[0mF\u001b[0m\u001b[0;34m,\u001b[0m \u001b[0mwrapper\u001b[0m\u001b[0;34m)\u001b[0m\u001b[0;34m\u001b[0m\u001b[0;34m\u001b[0m\u001b[0m\n",
            "\u001b[0;32m/usr/local/lib/python3.9/dist-packages/pandas/util/_decorators.py\u001b[0m in \u001b[0;36mwrapper\u001b[0;34m(*args, **kwargs)\u001b[0m\n\u001b[1;32m    329\u001b[0m                     \u001b[0mstacklevel\u001b[0m\u001b[0;34m=\u001b[0m\u001b[0mfind_stack_level\u001b[0m\u001b[0;34m(\u001b[0m\u001b[0;34m)\u001b[0m\u001b[0;34m,\u001b[0m\u001b[0;34m\u001b[0m\u001b[0;34m\u001b[0m\u001b[0m\n\u001b[1;32m    330\u001b[0m                 )\n\u001b[0;32m--> 331\u001b[0;31m             \u001b[0;32mreturn\u001b[0m \u001b[0mfunc\u001b[0m\u001b[0;34m(\u001b[0m\u001b[0;34m*\u001b[0m\u001b[0margs\u001b[0m\u001b[0;34m,\u001b[0m \u001b[0;34m**\u001b[0m\u001b[0mkwargs\u001b[0m\u001b[0;34m)\u001b[0m\u001b[0;34m\u001b[0m\u001b[0;34m\u001b[0m\u001b[0m\n\u001b[0m\u001b[1;32m    332\u001b[0m \u001b[0;34m\u001b[0m\u001b[0m\n\u001b[1;32m    333\u001b[0m         \u001b[0;31m# error: \"Callable[[VarArg(Any), KwArg(Any)], Any]\" has no\u001b[0m\u001b[0;34m\u001b[0m\u001b[0;34m\u001b[0m\u001b[0m\n",
            "\u001b[0;32m/usr/local/lib/python3.9/dist-packages/pandas/io/parsers/readers.py\u001b[0m in \u001b[0;36mread_csv\u001b[0;34m(filepath_or_buffer, sep, delimiter, header, names, index_col, usecols, squeeze, prefix, mangle_dupe_cols, dtype, engine, converters, true_values, false_values, skipinitialspace, skiprows, skipfooter, nrows, na_values, keep_default_na, na_filter, verbose, skip_blank_lines, parse_dates, infer_datetime_format, keep_date_col, date_parser, dayfirst, cache_dates, iterator, chunksize, compression, thousands, decimal, lineterminator, quotechar, quoting, doublequote, escapechar, comment, encoding, encoding_errors, dialect, error_bad_lines, warn_bad_lines, on_bad_lines, delim_whitespace, low_memory, memory_map, float_precision, storage_options)\u001b[0m\n\u001b[1;32m    948\u001b[0m     \u001b[0mkwds\u001b[0m\u001b[0;34m.\u001b[0m\u001b[0mupdate\u001b[0m\u001b[0;34m(\u001b[0m\u001b[0mkwds_defaults\u001b[0m\u001b[0;34m)\u001b[0m\u001b[0;34m\u001b[0m\u001b[0;34m\u001b[0m\u001b[0m\n\u001b[1;32m    949\u001b[0m \u001b[0;34m\u001b[0m\u001b[0m\n\u001b[0;32m--> 950\u001b[0;31m     \u001b[0;32mreturn\u001b[0m \u001b[0m_read\u001b[0m\u001b[0;34m(\u001b[0m\u001b[0mfilepath_or_buffer\u001b[0m\u001b[0;34m,\u001b[0m \u001b[0mkwds\u001b[0m\u001b[0;34m)\u001b[0m\u001b[0;34m\u001b[0m\u001b[0;34m\u001b[0m\u001b[0m\n\u001b[0m\u001b[1;32m    951\u001b[0m \u001b[0;34m\u001b[0m\u001b[0m\n\u001b[1;32m    952\u001b[0m \u001b[0;34m\u001b[0m\u001b[0m\n",
            "\u001b[0;32m/usr/local/lib/python3.9/dist-packages/pandas/io/parsers/readers.py\u001b[0m in \u001b[0;36m_read\u001b[0;34m(filepath_or_buffer, kwds)\u001b[0m\n\u001b[1;32m    603\u001b[0m \u001b[0;34m\u001b[0m\u001b[0m\n\u001b[1;32m    604\u001b[0m     \u001b[0;31m# Create the parser.\u001b[0m\u001b[0;34m\u001b[0m\u001b[0;34m\u001b[0m\u001b[0m\n\u001b[0;32m--> 605\u001b[0;31m     \u001b[0mparser\u001b[0m \u001b[0;34m=\u001b[0m \u001b[0mTextFileReader\u001b[0m\u001b[0;34m(\u001b[0m\u001b[0mfilepath_or_buffer\u001b[0m\u001b[0;34m,\u001b[0m \u001b[0;34m**\u001b[0m\u001b[0mkwds\u001b[0m\u001b[0;34m)\u001b[0m\u001b[0;34m\u001b[0m\u001b[0;34m\u001b[0m\u001b[0m\n\u001b[0m\u001b[1;32m    606\u001b[0m \u001b[0;34m\u001b[0m\u001b[0m\n\u001b[1;32m    607\u001b[0m     \u001b[0;32mif\u001b[0m \u001b[0mchunksize\u001b[0m \u001b[0;32mor\u001b[0m \u001b[0miterator\u001b[0m\u001b[0;34m:\u001b[0m\u001b[0;34m\u001b[0m\u001b[0;34m\u001b[0m\u001b[0m\n",
            "\u001b[0;32m/usr/local/lib/python3.9/dist-packages/pandas/io/parsers/readers.py\u001b[0m in \u001b[0;36m__init__\u001b[0;34m(self, f, engine, **kwds)\u001b[0m\n\u001b[1;32m   1440\u001b[0m \u001b[0;34m\u001b[0m\u001b[0m\n\u001b[1;32m   1441\u001b[0m         \u001b[0mself\u001b[0m\u001b[0;34m.\u001b[0m\u001b[0mhandles\u001b[0m\u001b[0;34m:\u001b[0m \u001b[0mIOHandles\u001b[0m \u001b[0;34m|\u001b[0m \u001b[0;32mNone\u001b[0m \u001b[0;34m=\u001b[0m \u001b[0;32mNone\u001b[0m\u001b[0;34m\u001b[0m\u001b[0;34m\u001b[0m\u001b[0m\n\u001b[0;32m-> 1442\u001b[0;31m         \u001b[0mself\u001b[0m\u001b[0;34m.\u001b[0m\u001b[0m_engine\u001b[0m \u001b[0;34m=\u001b[0m \u001b[0mself\u001b[0m\u001b[0;34m.\u001b[0m\u001b[0m_make_engine\u001b[0m\u001b[0;34m(\u001b[0m\u001b[0mf\u001b[0m\u001b[0;34m,\u001b[0m \u001b[0mself\u001b[0m\u001b[0;34m.\u001b[0m\u001b[0mengine\u001b[0m\u001b[0;34m)\u001b[0m\u001b[0;34m\u001b[0m\u001b[0;34m\u001b[0m\u001b[0m\n\u001b[0m\u001b[1;32m   1443\u001b[0m \u001b[0;34m\u001b[0m\u001b[0m\n\u001b[1;32m   1444\u001b[0m     \u001b[0;32mdef\u001b[0m \u001b[0mclose\u001b[0m\u001b[0;34m(\u001b[0m\u001b[0mself\u001b[0m\u001b[0;34m)\u001b[0m \u001b[0;34m->\u001b[0m \u001b[0;32mNone\u001b[0m\u001b[0;34m:\u001b[0m\u001b[0;34m\u001b[0m\u001b[0;34m\u001b[0m\u001b[0m\n",
            "\u001b[0;32m/usr/local/lib/python3.9/dist-packages/pandas/io/parsers/readers.py\u001b[0m in \u001b[0;36m_make_engine\u001b[0;34m(self, f, engine)\u001b[0m\n\u001b[1;32m   1733\u001b[0m                 \u001b[0;32mif\u001b[0m \u001b[0;34m\"b\"\u001b[0m \u001b[0;32mnot\u001b[0m \u001b[0;32min\u001b[0m \u001b[0mmode\u001b[0m\u001b[0;34m:\u001b[0m\u001b[0;34m\u001b[0m\u001b[0;34m\u001b[0m\u001b[0m\n\u001b[1;32m   1734\u001b[0m                     \u001b[0mmode\u001b[0m \u001b[0;34m+=\u001b[0m \u001b[0;34m\"b\"\u001b[0m\u001b[0;34m\u001b[0m\u001b[0;34m\u001b[0m\u001b[0m\n\u001b[0;32m-> 1735\u001b[0;31m             self.handles = get_handle(\n\u001b[0m\u001b[1;32m   1736\u001b[0m                 \u001b[0mf\u001b[0m\u001b[0;34m,\u001b[0m\u001b[0;34m\u001b[0m\u001b[0;34m\u001b[0m\u001b[0m\n\u001b[1;32m   1737\u001b[0m                 \u001b[0mmode\u001b[0m\u001b[0;34m,\u001b[0m\u001b[0;34m\u001b[0m\u001b[0;34m\u001b[0m\u001b[0m\n",
            "\u001b[0;32m/usr/local/lib/python3.9/dist-packages/pandas/io/common.py\u001b[0m in \u001b[0;36mget_handle\u001b[0;34m(path_or_buf, mode, encoding, compression, memory_map, is_text, errors, storage_options)\u001b[0m\n\u001b[1;32m    854\u001b[0m         \u001b[0;32mif\u001b[0m \u001b[0mioargs\u001b[0m\u001b[0;34m.\u001b[0m\u001b[0mencoding\u001b[0m \u001b[0;32mand\u001b[0m \u001b[0;34m\"b\"\u001b[0m \u001b[0;32mnot\u001b[0m \u001b[0;32min\u001b[0m \u001b[0mioargs\u001b[0m\u001b[0;34m.\u001b[0m\u001b[0mmode\u001b[0m\u001b[0;34m:\u001b[0m\u001b[0;34m\u001b[0m\u001b[0;34m\u001b[0m\u001b[0m\n\u001b[1;32m    855\u001b[0m             \u001b[0;31m# Encoding\u001b[0m\u001b[0;34m\u001b[0m\u001b[0;34m\u001b[0m\u001b[0m\n\u001b[0;32m--> 856\u001b[0;31m             handle = open(\n\u001b[0m\u001b[1;32m    857\u001b[0m                 \u001b[0mhandle\u001b[0m\u001b[0;34m,\u001b[0m\u001b[0;34m\u001b[0m\u001b[0;34m\u001b[0m\u001b[0m\n\u001b[1;32m    858\u001b[0m                 \u001b[0mioargs\u001b[0m\u001b[0;34m.\u001b[0m\u001b[0mmode\u001b[0m\u001b[0;34m,\u001b[0m\u001b[0;34m\u001b[0m\u001b[0;34m\u001b[0m\u001b[0m\n",
            "\u001b[0;31mFileNotFoundError\u001b[0m: [Errno 2] No such file or directory: '/content/drive/MyDrive/OnlineRetail.csv'"
          ]
        }
      ]
    },
    {
      "cell_type": "code",
      "metadata": {
        "id": "FUqx-8H3h6vN"
      },
      "source": [
        "df.info()"
      ],
      "execution_count": null,
      "outputs": []
    },
    {
      "cell_type": "code",
      "metadata": {
        "id": "L_VZ1pAKMV9P"
      },
      "source": [
        "df.describe()"
      ],
      "execution_count": null,
      "outputs": []
    },
    {
      "cell_type": "markdown",
      "metadata": {
        "id": "_v1l1Hg2ACCR"
      },
      "source": [
        "###Attribute Information:\n",
        "\n",
        "InvoiceNo: Invoice number.\n",
        "Datatype - Nominal, a 6-digit integral number uniquely assigned to each transaction. If this code starts with letter 'c', it indicates a cancellation.\n",
        "\n",
        "StockCode: Product (item) code. Datatype - Nominal, a 5-digit integral number uniquely assigned to each distinct product.\n",
        "\n",
        "Description: Product (item) name. Datatype - Nominal.\n",
        "\n",
        "Quantity: The quantities of each product (item) per transaction. Datatype - Numeric.\n",
        "\n",
        "InvoiceDate: Invoice Date and time. Datatype - Numeric, the day and time when each transaction was generated.\n",
        "\n",
        "UnitPrice: Unit price. Datatype - Numeric, Product price per unit in sterling.\n",
        "\n",
        "CustomerID: Customer number. Datatype - Nominal, a 5-digit integral number uniquely assigned to each customer.\n",
        "\n",
        "Country: Country name. Nominal, the name of the country where each customer resides."
      ]
    },
    {
      "cell_type": "code",
      "metadata": {
        "id": "GcGqYhJT17Ef"
      },
      "source": [
        "df.head()"
      ],
      "execution_count": null,
      "outputs": []
    },
    {
      "cell_type": "code",
      "metadata": {
        "id": "sbpsdAsG2YJ0"
      },
      "source": [
        "df.info()"
      ],
      "execution_count": null,
      "outputs": []
    },
    {
      "cell_type": "code",
      "metadata": {
        "id": "OFTl_n3IMBx-"
      },
      "source": [
        "df.describe()"
      ],
      "execution_count": null,
      "outputs": []
    },
    {
      "cell_type": "markdown",
      "metadata": {
        "id": "LuMyg9ti8alv"
      },
      "source": [
        "### Step 2 : Data Cleaning"
      ]
    },
    {
      "cell_type": "code",
      "metadata": {
        "id": "FroLETEX2jrf"
      },
      "source": [
        "df.isnull().sum()"
      ],
      "execution_count": null,
      "outputs": []
    },
    {
      "cell_type": "code",
      "metadata": {
        "id": "ghVqetA2RHnm"
      },
      "source": [
        "df.shape"
      ],
      "execution_count": null,
      "outputs": []
    },
    {
      "cell_type": "code",
      "metadata": {
        "id": "Ciz6SD1065Od"
      },
      "source": [
        "df.isnull().sum().sum()"
      ],
      "execution_count": null,
      "outputs": []
    },
    {
      "cell_type": "markdown",
      "metadata": {
        "id": "wd6kX--BFmyI"
      },
      "source": [
        "     \n",
        "     Dropping rows containing null values. Since, size of data is huge enough so it won't make much difference."
      ]
    },
    {
      "cell_type": "code",
      "metadata": {
        "id": "0a0AyGTO2ueV"
      },
      "source": [
        "df.dropna(inplace=True)\n",
        "df.shape"
      ],
      "execution_count": null,
      "outputs": []
    },
    {
      "cell_type": "code",
      "metadata": {
        "id": "Yi8HsF8z-VmL"
      },
      "source": [
        "# Changing the datatype of Customer Id as per Business understanding\n",
        "\n",
        "df['CustomerID'] = df['CustomerID'].astype(str)"
      ],
      "execution_count": null,
      "outputs": []
    },
    {
      "cell_type": "code",
      "metadata": {
        "id": "veJv0xzS_qRX"
      },
      "source": [
        "# Convert to datetime to proper datatype\n",
        "\n",
        "df['InvoiceDate'] = pd.to_datetime(df['InvoiceDate'],format='%d-%m-%Y %H:%M')"
      ],
      "execution_count": null,
      "outputs": []
    },
    {
      "cell_type": "markdown",
      "metadata": {
        "id": "k7g_ChRCGRDY"
      },
      "source": [
        "Dropping rows having duplicate values"
      ]
    },
    {
      "cell_type": "code",
      "metadata": {
        "id": "O6UgLx3cTk4L"
      },
      "source": [
        "df.shape"
      ],
      "execution_count": null,
      "outputs": []
    },
    {
      "cell_type": "code",
      "metadata": {
        "id": "TxAewSr3Aw70"
      },
      "source": [
        "df.drop_duplicates(keep=False,inplace=True)\n",
        "df.shape"
      ],
      "execution_count": null,
      "outputs": []
    },
    {
      "cell_type": "markdown",
      "metadata": {
        "id": "2nh46408JJOV"
      },
      "source": [
        "10147 duplicate rows dropped\n"
      ]
    },
    {
      "cell_type": "code",
      "metadata": {
        "id": "nbDHCm6tC-XK"
      },
      "source": [
        "df.tail(250)"
      ],
      "execution_count": null,
      "outputs": []
    },
    {
      "cell_type": "code",
      "metadata": {
        "id": "jgg_9SQWDzLY"
      },
      "source": [
        "df.nunique()      #count of unique values in attributes"
      ],
      "execution_count": null,
      "outputs": []
    },
    {
      "cell_type": "code",
      "metadata": {
        "id": "8EN1EdC_227U"
      },
      "source": [
        "df.shape"
      ],
      "execution_count": null,
      "outputs": []
    },
    {
      "cell_type": "markdown",
      "metadata": {
        "id": "lgX5QOgwMtnw"
      },
      "source": [
        "Removing the cancelled transactions/orders\n",
        "\n"
      ]
    },
    {
      "cell_type": "code",
      "metadata": {
        "id": "kMjde4knLeHh"
      },
      "source": [
        "df.drop(df[df['Quantity'] < 0].index, inplace = True)"
      ],
      "execution_count": null,
      "outputs": []
    },
    {
      "cell_type": "code",
      "metadata": {
        "id": "3zyBso5KMgOS"
      },
      "source": [
        "df.shape"
      ],
      "execution_count": null,
      "outputs": []
    },
    {
      "cell_type": "markdown",
      "metadata": {
        "id": "Tr2TOp35M8o_"
      },
      "source": [
        "9687 rows removed\n"
      ]
    },
    {
      "cell_type": "code",
      "metadata": {
        "id": "BXEmIIL0-IGR"
      },
      "source": [
        "df.describe()"
      ],
      "execution_count": null,
      "outputs": []
    },
    {
      "cell_type": "code",
      "metadata": {
        "id": "IP1JKs5OQOPN"
      },
      "source": [
        "corr = df.corr(method = 'pearson')\n",
        "\n",
        "#convert correlation to numpy array\n",
        "mask = np.array(corr)\n",
        "\n",
        "#to mask the repetitive value for each pair\n",
        "mask[np.tril_indices_from(mask)] = False\n",
        "fig, ax = plt.subplots(figsize = (15,12))\n",
        "fig.set_size_inches(15,15)\n",
        "sns.heatmap(corr, mask = mask, vmax = 0.9, square = True, annot = True)"
      ],
      "execution_count": null,
      "outputs": []
    },
    {
      "cell_type": "markdown",
      "metadata": {
        "id": "XDNUOyMTfpvx"
      },
      "source": [
        "The heatmap shows \"Quantity\" and \"UnitPrice\" are weakly correlated with each other."
      ]
    },
    {
      "cell_type": "markdown",
      "metadata": {
        "id": "F-uFgWbS8qJH"
      },
      "source": [
        "### Step 3 : Data Preparation"
      ]
    },
    {
      "cell_type": "markdown",
      "metadata": {
        "id": "VTTNIIv1-d5K"
      },
      "source": [
        "####We are going to analysis the Customers based on below 3 factors:\n",
        "\n",
        "R (Recency): Number of days since last purchase\n",
        "\n",
        "F (Frequency): Number of transactions wrt same customer(i.e. same CustomerId and same InvoiceNo)\n",
        "\n",
        "M (Monetary): Total amount of transactions (revenue contributed)"
      ]
    },
    {
      "cell_type": "code",
      "metadata": {
        "id": "kq6Tc-u0-o3l"
      },
      "source": [
        "# New Attribute : Amount\n",
        "\n",
        "df['Amount'] = df['Quantity']*df['UnitPrice']\n",
        "retail = df.groupby('CustomerID')['Amount'].sum()\n",
        "retail = retail.reset_index()\n",
        "retail.head()"
      ],
      "execution_count": null,
      "outputs": []
    },
    {
      "cell_type": "code",
      "metadata": {
        "id": "sAVD84JP_CUJ"
      },
      "source": [
        "# New Attribute : Frequency\n",
        "\n",
        "retail_f = df.groupby('CustomerID')['InvoiceNo'].count()\n",
        "retail_f = retail_f.reset_index()\n",
        "retail_f.columns = ['CustomerID', 'Frequency']\n",
        "retail_f.head()"
      ],
      "execution_count": null,
      "outputs": []
    },
    {
      "cell_type": "code",
      "metadata": {
        "id": "enofqXbV_cY9"
      },
      "source": [
        "rfm = pd.merge(retail, retail_f, on='CustomerID', how='inner')\n",
        "rfm.head()"
      ],
      "execution_count": null,
      "outputs": []
    },
    {
      "cell_type": "markdown",
      "metadata": {
        "id": "SY5s_JV67fH1"
      },
      "source": [
        "New Attribute : Recency"
      ]
    },
    {
      "cell_type": "code",
      "metadata": {
        "id": "qxxioJmh_zaq"
      },
      "source": [
        "# Compute the maximum date to know the last transaction date\n",
        "\n",
        "max_date = max(df['InvoiceDate'])\n",
        "max_date"
      ],
      "execution_count": null,
      "outputs": []
    },
    {
      "cell_type": "code",
      "metadata": {
        "id": "l3Pr_1UL_7gy"
      },
      "source": [
        "# Compute the difference between max date and transaction date\n",
        "\n",
        "df['Recency'] = max_date - df['InvoiceDate']\n",
        "df.head()"
      ],
      "execution_count": null,
      "outputs": []
    },
    {
      "cell_type": "code",
      "metadata": {
        "id": "KTq8qfrEAZpa"
      },
      "source": [
        "# Compute last transaction date of particular customer to get the recency of customers\n",
        "\n",
        "rfm_p = df.groupby('CustomerID')['Recency'].min()\n",
        "rfm_p = rfm_p.reset_index()\n",
        "\n",
        "# Extract number of days only\n",
        "\n",
        "rfm_p['Recency'] = rfm_p['Recency'].dt.days\n",
        "rfm_p.head()"
      ],
      "execution_count": null,
      "outputs": []
    },
    {
      "cell_type": "code",
      "metadata": {
        "id": "epLNziP0A6OL"
      },
      "source": [
        "# Merge the dataframes to get the final RFM dataframe\n",
        "\n",
        "rfm = pd.merge(rfm, rfm_p, on='CustomerID', how='inner')\n",
        "#rfm.columns = ['CustomerID', 'Amount', 'Frequency', 'Recency']\n",
        "rfm.head()"
      ],
      "execution_count": null,
      "outputs": []
    },
    {
      "cell_type": "code",
      "metadata": {
        "id": "5DqIp509FAP6"
      },
      "source": [
        "rfm.shape"
      ],
      "execution_count": null,
      "outputs": []
    },
    {
      "cell_type": "markdown",
      "metadata": {
        "id": "pOmNF0MTBNKW"
      },
      "source": [
        "####There are 2 types of outliers and we will treat outliers as it can skew our dataset\n",
        "- Statistical\n",
        "- Domain specific"
      ]
    },
    {
      "cell_type": "code",
      "metadata": {
        "id": "Yipu-whEBYMy"
      },
      "source": [
        "# Outlier Analysis of Amount, Frequency and Recency\n",
        "\n",
        "attributes = ['Amount','Frequency','Recency']\n",
        "plt.rcParams['figure.figsize'] = [10,8]\n",
        "sns.boxplot(data = rfm[attributes], orient=\"v\", palette=\"Set2\")\n",
        "plt.title(\"Outliers Variable Distribution\", fontsize = 14, fontweight = 'bold')\n",
        "plt.ylabel(\"Range\", fontweight = 'bold')\n",
        "plt.xlabel(\"Attributes\", fontweight = 'bold')"
      ],
      "execution_count": null,
      "outputs": []
    },
    {
      "cell_type": "code",
      "metadata": {
        "id": "n8OeVvKWBjpa"
      },
      "source": [
        "# Removing (statistical) outliers for Amount\n",
        "Q1 = rfm.Amount.quantile(0.05)\n",
        "Q3 = rfm.Amount.quantile(0.95)\n",
        "IQR = Q3 - Q1\n",
        "rfm = rfm[(rfm.Amount >= Q1 - 1.5*IQR) & (rfm.Amount <= Q3 + 1.5*IQR)]\n",
        "#\n",
        "\n",
        "# Removing (statistical) outliers for Recency\n",
        "Q1 = rfm.Recency.quantile(0.05)\n",
        "Q3 = rfm.Recency.quantile(0.95)\n",
        "IQR = Q3 - Q1\n",
        "rfm = rfm[(rfm.Recency >= Q1 - 1.5*IQR) & (rfm.Recency <= Q3 + 1.5*IQR)]\n",
        "\n",
        "# Removing (statistical) outliers for Frequency\n",
        "Q1 = rfm.Frequency.quantile(0.05)\n",
        "Q3 = rfm.Frequency.quantile(0.95)\n",
        "IQR = Q3 - Q1\n",
        "rfm = rfm[(rfm.Frequency >= Q1 - 1.5*IQR) & (rfm.Frequency <= Q3 + 1.5*IQR)]"
      ],
      "execution_count": null,
      "outputs": []
    },
    {
      "cell_type": "code",
      "metadata": {
        "id": "4vAo2jTU6CTv"
      },
      "source": [
        "# Outlier Analysis of Amount, Frequency and Recency\n",
        "\n",
        "attributes = ['Amount','Frequency','Recency']\n",
        "plt.rcParams['figure.figsize'] = [10,8]\n",
        "sns.boxplot(data = rfm[attributes], orient=\"v\", palette=\"Set2\")\n",
        "plt.title(\"Outliers Variable Distribution\", fontsize = 14, fontweight = 'bold')\n",
        "plt.ylabel(\"Range\", fontweight = 'bold')\n",
        "plt.xlabel(\"Attributes\", fontweight = 'bold')"
      ],
      "execution_count": null,
      "outputs": []
    },
    {
      "cell_type": "code",
      "metadata": {
        "id": "giTgvHEqFnEj"
      },
      "source": [
        "rfm.shape"
      ],
      "execution_count": null,
      "outputs": []
    },
    {
      "cell_type": "markdown",
      "metadata": {
        "id": "v_n2rN31FiWc"
      },
      "source": [
        "79 rows containing outliers are removed"
      ]
    },
    {
      "cell_type": "markdown",
      "metadata": {
        "id": "bVfpyPghBqjr"
      },
      "source": [
        "###Rescaling the Attributes\n",
        "It is extremely important to rescale the variables so that they have a comparable scale.\n",
        "\n",
        "There are two common ways of rescaling:\n",
        "\n",
        "1. Min-Max scaling\n",
        "2. Standardisation (mean-0, sigma-1)\n",
        "\n",
        "Here, we will use Standardisation Scaling."
      ]
    },
    {
      "cell_type": "markdown",
      "metadata": {
        "id": "Vti9Uc7ZEqbR"
      },
      "source": [
        "- Normalization scales each input variable separately to the range 0-1, which is the range for floating-point values where we have the most precision.\n",
        "\n",
        "- Standardization scales each input variable separately by subtracting the mean (called centering) and dividing by the standard deviation to shift the distribution to have a mean of zero and a standard deviation of one."
      ]
    },
    {
      "cell_type": "code",
      "metadata": {
        "id": "9AWMeTcyBz07"
      },
      "source": [
        "rfm_df = rfm[['Amount', 'Frequency', 'Recency']]\n",
        "\n",
        "# Instantiate\n",
        "scaler = StandardScaler()\n",
        "\n",
        "# fit_transform\n",
        "rfm_df_scaled = scaler.fit_transform(rfm_df)\n",
        "rfm_df_scaled.shape"
      ],
      "execution_count": null,
      "outputs": []
    },
    {
      "cell_type": "code",
      "metadata": {
        "id": "fBBqKkT7CXyG"
      },
      "source": [
        "rfm_df_scaled = pd.DataFrame(rfm_df_scaled)\n",
        "rfm_df_scaled.columns = ['Amount', 'Frequency', 'Recency']\n",
        "rfm_df_scaled.head()"
      ],
      "execution_count": null,
      "outputs": []
    },
    {
      "cell_type": "code",
      "metadata": {
        "id": "q5rymrYWBe7v"
      },
      "source": [
        "rfm_df_scaled.info()"
      ],
      "execution_count": null,
      "outputs": []
    },
    {
      "cell_type": "markdown",
      "metadata": {
        "id": "VFJXhsh4CgNt"
      },
      "source": [
        "## Step 4 : Building the Model"
      ]
    },
    {
      "cell_type": "markdown",
      "metadata": {
        "id": "Vbn2MsqkClw7"
      },
      "source": [
        "### K-Means Clustering\n",
        "K-means clustering is one of the simplest and popular unsupervised machine learning algorithms.\n",
        "\n",
        "The algorithm works as follows:\n",
        "\n",
        "- First we initialize k points, called means, randomly.\n",
        "- We categorize each item to its closest mean and we update the mean’s coordinates, which are the averages of the items categorized in that mean so far.\n",
        "- We repeat the process for a given number of iterations and at the end, we have our clusters.\n"
      ]
    },
    {
      "cell_type": "code",
      "metadata": {
        "id": "XC1fMiUq46-r"
      },
      "source": [
        "kmeans = KMeans(n_clusters=4, max_iter=50)\n",
        "kmeans.fit(rfm_df_scaled)"
      ],
      "execution_count": null,
      "outputs": []
    },
    {
      "cell_type": "code",
      "metadata": {
        "id": "1EPR7VRMC7kp"
      },
      "source": [
        "kmeans.labels_"
      ],
      "execution_count": null,
      "outputs": []
    },
    {
      "cell_type": "markdown",
      "metadata": {
        "id": "14NSEo7MDBT-"
      },
      "source": [
        "### Finding the Optimal Number of Clusters\n",
        "Elbow Curve to get the right number of Clusters\n",
        "\n",
        "A fundamental step for any unsupervised algorithm is to determine the optimal number of clusters into which the data may be clustered. The Elbow Method is one of the most popular methods to determine this optimal value of k."
      ]
    },
    {
      "cell_type": "code",
      "metadata": {
        "id": "-HIhMR_15n-G"
      },
      "source": [
        "import matplotlib.pyplot as plt"
      ],
      "execution_count": null,
      "outputs": []
    },
    {
      "cell_type": "code",
      "metadata": {
        "id": "gljq7lsFDMs4"
      },
      "source": [
        "# Elbow-curve/SSD\n",
        "sse = {}\n",
        "# Fit KMeans and calculate SSE for each k\n",
        "for k in range(2, 9):\n",
        "\n",
        "    # Initialize KMeans with k clusters\n",
        "    kmeans = KMeans(n_clusters=k, random_state=1)\n",
        "\n",
        "    # Fit KMeans on the normalized dataset\n",
        "    kmeans.fit(rfm_df_scaled)\n",
        "\n",
        "    # Assign sum of squared distances to k element of dictionary\n",
        "    sse[k] = kmeans.inertia_\n",
        "# Plotting the elbow plot\n",
        "plt.figure(figsize=(12,8))\n",
        "plt.title('The Elbow Method')\n",
        "plt.xlabel('k');\n",
        "plt.ylabel('Sum of squared errors')\n",
        "sns.pointplot(x=list(sse.keys()), y=list(sse.values()))\n",
        "plt.show()"
      ],
      "execution_count": null,
      "outputs": []
    },
    {
      "cell_type": "markdown",
      "metadata": {
        "id": "f88HDCBCov_A"
      },
      "source": [
        "There’s a sweet spot where the SSE curve starts to bend known as the elbow point."
      ]
    },
    {
      "cell_type": "code",
      "metadata": {
        "id": "uqSqsoz7DVkh"
      },
      "source": [
        "# model with k=3\n",
        "kmeans = KMeans(n_clusters=3, max_iter=300)\n",
        "kmeans.fit(rfm_df_scaled)"
      ],
      "execution_count": null,
      "outputs": []
    },
    {
      "cell_type": "code",
      "metadata": {
        "id": "Cr6GD3FEDusK"
      },
      "source": [
        "rfm_df_scaled['Cluster_Id'] = kmeans.labels_ + 1\n",
        "rfm_df_scaled.head(5)"
      ],
      "execution_count": null,
      "outputs": []
    },
    {
      "cell_type": "code",
      "metadata": {
        "id": "ZAF4pdSjD3Do"
      },
      "source": [
        "# Box plot to visualize Cluster Id vs Amount\n",
        "\n",
        "sns.boxplot(x='Cluster_Id', y='Amount', data=rfm_df_scaled)"
      ],
      "execution_count": null,
      "outputs": []
    },
    {
      "cell_type": "markdown",
      "metadata": {
        "id": "_4oOtIWmbY4_"
      },
      "source": [
        "Above boxplot indicates customer having cluster_id 2 will have more amount of transactions compared to remaining clusters."
      ]
    },
    {
      "cell_type": "code",
      "metadata": {
        "id": "rdADn1NrD7re"
      },
      "source": [
        "# Box plot to visualize Cluster Id vs Frequency\n",
        "\n",
        "sns.boxplot(x='Cluster_Id', y='Frequency', data=rfm_df_scaled)"
      ],
      "execution_count": null,
      "outputs": []
    },
    {
      "cell_type": "markdown",
      "metadata": {
        "id": "d1p6vRNvbxZO"
      },
      "source": [
        "Above boxplot indicates customer having cluster_id 2 will have more number of transactions compared to remaining clusters."
      ]
    },
    {
      "cell_type": "code",
      "metadata": {
        "id": "fyAo5eMwhEC2"
      },
      "source": [
        "# Box plot to visualize Cluster Id vs Recency\n",
        "\n",
        "sns.boxplot(x='Cluster_Id', y='Recency', data=rfm_df_scaled)"
      ],
      "execution_count": null,
      "outputs": []
    },
    {
      "cell_type": "markdown",
      "metadata": {
        "id": "pRbFSA0Sb5E1"
      },
      "source": [
        "Above boxplot indicates customer having cluster_id 3 is having huge gap between his/her last transaction and retail company's last transaction compared to remaining clusters which is not good."
      ]
    },
    {
      "cell_type": "code",
      "metadata": {
        "id": "kxxWIl-4E7s0"
      },
      "source": [
        "groups = rfm_df_scaled.groupby('Cluster_Id')"
      ],
      "execution_count": null,
      "outputs": []
    },
    {
      "cell_type": "code",
      "metadata": {
        "id": "luCt8C0JH7EZ"
      },
      "source": [
        "a = groups.get_group(1)\n",
        "b = groups.get_group(2)\n",
        "c = groups.get_group(3)"
      ],
      "execution_count": null,
      "outputs": []
    },
    {
      "cell_type": "code",
      "metadata": {
        "id": "z6zYO-urF3xk"
      },
      "source": [
        "a.shape, b.shape, c.shape     #total - 4257"
      ],
      "execution_count": null,
      "outputs": []
    },
    {
      "cell_type": "code",
      "metadata": {
        "id": "BOFfkJRu0i38"
      },
      "source": [
        "a.head()"
      ],
      "execution_count": null,
      "outputs": []
    },
    {
      "cell_type": "code",
      "metadata": {
        "id": "J-LFQRXd8VhZ"
      },
      "source": [
        "kmeans.cluster_centers_"
      ],
      "execution_count": null,
      "outputs": []
    },
    {
      "cell_type": "markdown",
      "metadata": {
        "id": "_c5wYj95-4_i"
      },
      "source": [
        "### Visualisation of Clusters"
      ]
    },
    {
      "cell_type": "code",
      "metadata": {
        "id": "XU7rTF54FlB3"
      },
      "source": [
        "plt.scatter(a.iloc[:,0], a.iloc[:,1], s = 100, c = 'blue', label = 'Cluster 1')           #for first cluster\n",
        "plt.scatter(b.iloc[:,0], b.iloc[:,1], s = 100, c = 'green', label = 'Cluster 2')          #for second cluster\n",
        "plt.scatter(c.iloc[:,0], c.iloc[:,1], s = 100, c = 'red', label = 'Cluster 3')            #for third cluster\n",
        "\n",
        "plt.scatter(kmeans.cluster_centers_[0,0], kmeans.cluster_centers_[0, 1], s = 300, c = 'yellow', label = 'Centroid1')\n",
        "plt.scatter(kmeans.cluster_centers_[1,0], kmeans.cluster_centers_[1, 1], s = 300, c = 'grey', label = 'Centroid2')\n",
        "plt.scatter(kmeans.cluster_centers_[2,0], kmeans.cluster_centers_[2, 1], s = 300, c = 'black', label = 'Centroid3')\n",
        "\n",
        "plt.title('Visualization of diff. Clusters')\n",
        "plt.xlabel('Amount and Frequency(InvoiceNo)')\n",
        "plt.ylabel('Region')\n",
        "plt.legend()\n",
        "plt.show()"
      ],
      "execution_count": null,
      "outputs": []
    },
    {
      "cell_type": "code",
      "metadata": {
        "id": "Rb5dqk3KJfE4"
      },
      "source": [
        "plt.scatter(a.iloc[:,0], a.iloc[:,2], s = 100, c = 'blue', label = 'Cluster 1')           #for first cluster\n",
        "plt.scatter(b.iloc[:,0], b.iloc[:,2], s = 100, c = 'green', label = 'Cluster 2')          #for second cluster\n",
        "plt.scatter(c.iloc[:,0], c.iloc[:,2], s = 100, c = 'red', label = 'Cluster 3')            #for third cluster\n",
        "plt.scatter(kmeans.cluster_centers_[0,0], kmeans.cluster_centers_[0, 1], s = 300, c = 'yellow', label = 'Centroid1')\n",
        "plt.scatter(kmeans.cluster_centers_[1,0], kmeans.cluster_centers_[1, 1], s = 300, c = 'grey', label = 'Centroid2')\n",
        "plt.scatter(kmeans.cluster_centers_[2,0], kmeans.cluster_centers_[2, 1], s = 300, c = 'black', label = 'Centroid3')\n",
        "\n",
        "plt.title('Visualization of diff. Clusters', fontweight=30)\n",
        "plt.xlabel('Amount and Recency(InvoiceDate)')\n",
        "plt.ylabel('Region')\n",
        "plt.legend()\n",
        "plt.show()"
      ],
      "execution_count": null,
      "outputs": []
    },
    {
      "cell_type": "code",
      "metadata": {
        "id": "GAuO9LFA1bkW"
      },
      "source": [
        "plt.scatter(a.iloc[:,1], a.iloc[:,2], s = 100, c = 'blue', label = 'Cluster 1')           #for first cluster\n",
        "plt.scatter(b.iloc[:,1], b.iloc[:,2], s = 100, c = 'green', label = 'Cluster 2')          #for second cluster\n",
        "plt.scatter(c.iloc[:,1], c.iloc[:,2], s = 100, c = 'red', label = 'Cluster 3')            #for third cluster\n",
        "plt.scatter(kmeans.cluster_centers_[0,0], kmeans.cluster_centers_[0, 1], s = 300, c = 'yellow', label = 'Centroid1')\n",
        "plt.scatter(kmeans.cluster_centers_[1,0], kmeans.cluster_centers_[1, 1], s = 300, c = 'grey', label = 'Centroid2')\n",
        "plt.scatter(kmeans.cluster_centers_[2,0], kmeans.cluster_centers_[2, 1], s = 300, c = 'black', label = 'Centroid3')\n",
        "\n",
        "plt.title('Visualization of diff. Clusters', fontweight=30)\n",
        "plt.xlabel('Frequency(InvoiceNo) and Recency(InvoiceDate)')\n",
        "plt.ylabel('Region')\n",
        "plt.legend()\n",
        "plt.show()"
      ],
      "execution_count": null,
      "outputs": []
    },
    {
      "cell_type": "markdown",
      "metadata": {
        "id": "0NUxZ5QjP67S"
      },
      "source": [
        "### Result:\n",
        "\n",
        "We are able to divide customers into 3 groups based on RFM."
      ]
    },
    {
      "cell_type": "code",
      "metadata": {
        "id": "JvYKm7W44WRS"
      },
      "source": [
        "plt.figure(figsize=(20,20))\n",
        "px.scatter_3d(rfm_df_scaled, x=\"Amount\", y=\"Frequency\", z=\"Recency\", color=\"Cluster_Id\")"
      ],
      "execution_count": null,
      "outputs": []
    },
    {
      "cell_type": "markdown",
      "metadata": {
        "id": "bORBEaOed-c6"
      },
      "source": [
        "![image.png](data:image/png;base64,iVBORw0KGgoAAAANSUhEUgAAAksAAAH0CAYAAAAtyWk/AAAgAElEQVR4Aey9zat8yVI2emYiCg5EFPzAgehAcFKi5wN0JA6ciIIDEe459EzZNZM7kT5yB32HxcYe2I2z19EdSO1Dz4X3BQ9ntKlhI/4BP9j/Q14yMiIyIjLXR33XWvU0/LrWypUZH09ERj4r19pV30n4DwgAASAABIAAEAACQGAQge8MXsEFIAAEgAAQAAJAAAgAgQSyhCQAAkAACAABIAAEgMAIAiBLI+DgEhAAAkAACAABIAAEQJaQA0AACAABIAAEgAAQGEEAZGkEHFwCAkAACAABIAAEgADIEnIACAABIAAEgAAQAAIjCFyNLH28bdNms2n+7d5HrJl96SPtX7Lsbdp/mjNI+hd7pm34SPu3QyM4+jRLDtk5ovfTPm07OG1eW/2NQWc1HNJO9VYcxcft28dZ0uPgj7d9ch6970puXN3PaAnOgQAQAAJAAAgch8DVyFIxwyzIF10UhfzURX7SbUNKpkgOEYZgr5CITGLkeBahmKn38CrEcudJxaRjZ3QQwmJI51G+zVVNGAS/RHfAea5I9AMCQAAIAAEgcCsEFkqWToGnErdRsjSwiCuZOXZxXxhZOgXZ8TGCeyBL44NwFQgAASAABIDAwyBwF7Ikuxf0mO71kJSImB2OjJDrt9mkspMju0rto60qR3ZpymcZJ4v2Ju3e6/HmZZ/kgVPUl+3bvXt9ZHMeI6QqP8oiGUbmxhCDM8iSs8fsaGUbok8bo9PisH3dmcd8YSdOfSjtUV/NUutbxtT4l5KJX4iJ8Z1wy1hlsql6BTvWFPtbYhrGHMxjXkd+owwT36rX21/9xBEQAAJAAAgAgRaBu5CllDwByYudLtSyuPGiJwthvq6PvcyCKNeFIERCJddTsgt+XiyrDSL349NHXfjtQm0JgWkXnUq4dEE3i3HH1jYMlnCYsVavECTVIaSl9cP5KnjqOCNf24REVVn1nSnGjeWIz4JZOWeZKo/PP30YUmn0Wr/EPsFJzkVWD+8GC5HN9suYLFPkZdBFZiB7vXigDQgAASAABICAIHAnsmTIAS9sDVmShc0udmK1LKy085MbKxESciSLerPo65hKDGThJ0ny7pAsuKyzlWd8EBvFZrsYN7aKE/5T5duxllSIPSqvJTjVj4pHr00wquShlSW4iV1VTt9uuq7+i7xhgiJyhWjKedUjPlRZgzmimLVjvLU4AwJAAAgAASBwPAKPS5bMzk997MQOKmHIj8lymyyScm6IjJCMps/6yJIQHItHJR8dfxtyU/sUWfW8yhlIMpWVd7wqwamETHZ/ynghR4Us9fS0MZ0mS2aHUh+PDtiLZiAABIAAEAACMxF4YLJUPNAFUt53yc0NWarkqCzqdfHVXRSQJf66BXnfye76CLmpuEWyVIlYzCwmNXl3TQmTyLM6bkOWyDqTH/H9qmg9zoEAEAACQAAITCHw8GSpOCC7DLzgmsWwkqGwq2B3N0iIyJDdp0oM7K6J7njojhRb0Hk8p30f5DFcJTTV1+pbbVPMGnJTMRFZjY8uo2p/0tPIm0uWItnNSsTeSryUOI/hbewT29Vfcw2HQAAIAAEgAATmInAnslQXWVmUdSGU908yIZJFUd7dkfMeWcoLdSA4DoRmTGtD7i8LLMl63/FjvtDOgtVmtkvHWqLW6HVW6UkdO7ADI741hKTnhxAN89dmOs7I1zYhJB1Zxn4lXu+75q/x8jXFw/qvOrLeQ9qxH+pvjKmcyzjx28Ym9lF92X7xRYhaPJcX4xV6HAABIAAEgAAQGEXgamSpLpzlz8nlT8fzXX68tnsL32KdF8hP+7Tr/tm7WdDzozkiV7HN6KTFNl7fpb350/NsW919MESjO9YQEN39KPqyveJnfBentBuiImExZETH8iPHiNP2bW++dbvYsZcdL8JC/Kg++K8OsPprH9L7sk//PYRJtLFHYOgv1Ix9QmgsyREiLESIbVYSNqKnvvtUsO5h8ZHfc3vdpZ351nSVnfFWvRYHCQQ+gQAQAAJAAAj0EbgaWeqru2KrLoSGKMXF+IrqH0t0JUKOLDyWkbAGCAABIAAEgMAiEFgJWSo7Ry0xKKShbV9EbM4wEmTpDPAwFAgAASAABICAQ2AlZInJgXk8RF7SYx3zzopzfc0nIEtrji58AwJAAAgAgdsisBKy5L9OoL7785zvpujL0/wYcvTF99vmG7QBASAABIAAEFgcAushS4uDHgYDASAABIAAEAACS0AAZGkJUYKNQAAIAAEgAASAwN0QAFm6G/RQDASAABAAAkAACCwBAZClJUQJNgIBIAAEgAAQAAJ3QwBk6W7QQzEQAAJAAAgAASCwBARAlpYQJdgIBIAAEAACQAAI3A0BkKW7QQ/FQAAIAAEgAASAwBIQAFlaQpRgIxAAAkAACAABIHA3BECW7gY9FAMBIAAEgAAQAAJLQABkaQlRgo1AAAgAASAABIDA3RAAWbob9FAMBIAAEAACQAAILAEBkKUlRAk2AgEgAASAABAAAndDAGTpbtBDMRAAAkAACAABILAEBECWlhAl2AgEgAAQAAJAAAjcDQGQpbtBD8VAAAgAASAABIDAEhC4CFn67LPP0t/93d+l3W6Hf8Dgbjnw3e9+N/3RH/3R3fQj/zH/Hy0H/uzP/gxzAjX5KWriP/3TP6Uf/ehHV+NdFyFLmSj98R//cXp5ecE/YHC3HPj93//99Fu/9Vt304/8x/x/tBz43ve+l371V38VcwJ1efU58MMf/pDq/7XY0kXIUr6bykXi22+/xT9gcLcc+OKLL5CHyL+75d8j1r+vv/46/e3f/i0wwbxYfQ7853/+Z/rBD35wLa6UQJYwiVYziUCWcLPyiITlnjaBLGFO3DP/bqkbZAlkZjVk5toTB2QJC8O1c2xp8kGWMCeWlrOn2guyBLIEsjQzB0CWsDCcWmjXOg5kCXNirbkd/QJZmrlQRuBw/nxFAmTp+WKOeT4ec5ClcXyQP+vBB2QJZAk7SzNzAGRpPYUPi9hlYgmydBkckY+Pj+MqyNI3P96kzWbGvx9/8/jE4Kdfpc+sL2M2x76bTfrs65+Rj9/8+PP0zUwSMGui/uSr9NVPHz+hZ/lyIi7jZOln6avPpnLQx+RnX382nbeffZV+NhLn6G87Fz5r49aRR/NnLNe6mP0sffX1AuaUs/2b9BXPkYjd+HkcJ/Hu4Ov0rXvOTJGlNh/jHHlu/MZzrpM7P/nc1IwTsTtZxjfp880mff6Tjl2zcz7WjOXMo/WQJS30Av4mbfJCw0GkSat9zgn2FcfqIvZ5+kaOjQ91YhkfN0MLsG+vY0+xP0+SEyfm7El0il23HTNOltgWU4hqUbHxijiWAtQjK0SmTPy/+fozQ6R78f0mffXjz2ufiXyvC1lP1jS2ZN+EjvPybtqGY+Vnn+WG4pix7TiJaYzn5W0+xs5b950iS2SP1DJzM5fba/6duwA/F+bfao05I/dOkKE3d6YmHZtvbc1YzjxaCVmyxV7A92Tp22+/SZ8/emHXBLb+xEJg/AtESROXitOYjChz7Fz0nTExV0KYTidL36Za4OJiPUyWaEH52hD+r79KmTDJLmolYyV+P/v68/TVT8zO5ES+18XqhFyRXJ3QoTn5ADkgxf5YsnTquEfy/Vq2nEOWvjUkarOgPLoWlrPlytw75wb2aBmyDuSdwRPXAtG50Fivgiz5JDNBbRiwWZjoURcHXYJIW4y2z2fp8x/XxcnuVInOuuDERbBDQGxxyPpN0khBloVwMCGNrWNFXx7DOblZn7XB4OP66R2gxYK3z80YSwCy3dUeEwPC1J63mFscCq5Wr5mY1nYmioJ/0W3HZXtPIAEji/qlyJInOcZmzYe4VV1y6ZtMnCwGNhbf/ix99eNwXeV1ctHd2VecXB78+Btz91/j4PrwI2Prk8RkPCcMgfzs/0n/tz56Hplz1vdu/LOfBk9T1K1NZY5Vf9ycyHYYXPvjbD77XRHf3+jI8TGPaT//ibHT6JO6spTPS5GlWjtKrroca/LYYEd5U/M34zYcAzsux8aeFxlWb7XJ9jtmHM+7Tt5mO62uXAOr3TZviox6bZM+/7E8iov9op2sn2vaPBl+jObhTz5Pn38950bM2lBrsPNVa0acE0a3Wed8HTkON7V/pK7P7fNkZOlbRxbqZCiFWwu+CZT00UQzE7e0ccLyhJD+TQBkwkhhFB1GXiUffvJbWWqHWQjs9fbYJCTr0sQVW9g28T9fJz9++jOzOIeJGewXmdV/O2nK2Go7E0XBxPnC49i2ItfoFr2bz9PnP97oBM56Sb74RIvmMI4tTmaiDkys08lSG4Oq3+Bk42PzQood7zJVHA0uP/0qfZ7fxVFMPRmv+qqfVY7FydjK7ydIbIVE/OynjHUuesHOIpPtYlt6OUEF/8dfFQKRY6ZxraRb7bM6tF8bfyVKTe7kPK5+VXtqPShtsc/0uFzIZd6IveVcZPkY1fcRM+bSp/rci9Mjt51DlgQvySvxU/Kt4MjzQ3PA1weRITGV81NioIuyyTF979POKyLqNXazxrH9xT6Zb15Gtll8t5iIT9FHf0PtcYl1c56MWhskFvJZbr6tveKDHeNtsDoHa4bBtcTM3EQxZoKJ+P+tmTcy/6SPxU1sv9Tn85Elx+gl4HxXLoukThZT6LSNx0iQ3eLs70ptkGzilHZOLEsUog6xRz9tshrb9LpNXDk2Y0LyaWKJXvVFxtbFxE/MKlMTXPDQ3Rzxry4mTULrmOqL9NGJwbbFc5kkFeOOTaO4GB9n9juWLGUb9V8PW9JbcdK+HRKS/aSdpTxG4mV2836WH9Hla4ppS2QqVsV3ycm4A6ftQ/li7965D8kW3eqrL55KZnr+qU81F6qfMk+975p7HL/x3Kn5obnk8Mo6ap9KAmtbfxznt/iu+W8WPsWoxrrYPiCb/YnxesTzY8mSy3GDVfVNMJKYC0blXHLTxULwmhMD7VPzTGRqzDUXxQY7r44bJ7IlVyVH5Vyui265rrW5Y2+dF9UWGae42Lo5U0aNQaiNciOWcVZsWoIvvqgNEhf+lOviK+lT22SdkHjLucW+xiPKEv8Vt6B70Lcj+j0lWbJFmwL706/SV/YNf02Imox1ESptGhy7INJxDWgNUE2AmkhSFExSqN6ejLjAGdtGA151S5Kq7bqomT5mAfbJbPV1bNekl35tn0avjhEMvB2usMqCM4aRXqvbvzUGoQCMYtbveyxZygVRfY64qv6Kk4uP+Kv9DFmyi7rc5cpfpRlMRd4QBlpwwqKl7WyD+qD5Yh51GDu13+CcqL7KYqG2aewkf2yRNG3aL86Rqdyp1+sctHGu1ynv1K/a7sYZnMmXjl2Kh+IW/R+QbWKu+Dxo27FkiTBUrDqE3l5zeZRzYAIvHVtzo4mBxq3mVMz3Sghqn1j/c1ymx9V4u1pmakGU0djb8am1r+IS9VANmCXDzgV/TO9C6l9CG580r3P/aoObJyZvo6+U2xoPWQOqfK0R2qfGI8pqcDN6LzWHnpQsmUXss6/oL4h0uzWDrMlVgxMniwYnLDT9wPQSqZMUqrdO9iiv6m2ZfexbzqtuWTxVhkt2g0kuUrJYdBLVks3hhG79a/SqbJkora2NT5MYVb1+N8wXgEbujMl1ClmyRSQXMsVL9Rl7BfNceIT8aD9Llnys8iMtlWsw1RgaGdZvLTghh7Wd7Wni1lsouju2EfPqq9ortmlch+cc2a794hyZyp16PRZz8e/zn9Q+Fbva5sYZnMmXjl0it97tRv8HZAsmC/g8iSzZ/DHEwcfX5IHiUPGq8TE5NicGGrcqP+b7nPqfbZ0eV+Ptckf9aWU0OdPxqbXveFxaGQZHY5+t9Q0Rs09FDFnqxqaHV9aj8ZDaWDHTGqF9hmPW4OZ8GPLtuPanJUs2SE0ia4LW4NTk4iLd6zMSIJlYVZckxYiOrjwZN/zIjxZoXWzbiTSeWCKf/ewkqiUAbULLIiZyZBKYBV5ImsqufQSnusCEhFbcRU+4zpiJjxXvfj9LHqaOTyNLviDER16uGClZ6tuqj+HIx4qvk2kwHSpa4qdifSGyVOeIyWmXw9VmzRu5rnE1Y7XNxLrXxjLUH8kvkU2fdR64nHDyap+KXW1z4wzO5IueV1slB6us6P+AbGd3Pxckhvf+PJUsuby3i67iWGuC9XE0xjp2JAbap+aZypT5pzlR+9T1orZNj6vxrTng4xllaM5IDnfs7c0zlSPjbA7NlGFx1uP8Yrd96pLlqjxzU23JUM8Ge11wDrKKnoqZ6lV9Na7q78gNnfpgsTjj+HnJkgavJr+Cq5Ol7t7E4FjCUBf28O6TDYwEXBJJdNjEkbaweKldIk9k5R0gkeeueZ+87TUZdZHN8owc6i/nqivLNP6JrSFZ64ISFwZzF9XINoVR9VXs8+Skl5ezj6K3g1G2O04wPRd8zvg8mSw5u32BcYuGzYWOnfIXjpIPEteK+XAhkzH2U8ZrHpBOkx8htrafjs19tKCasRLjfMeZ/0qPZLc5ofZoXGvcnQ7BQ/vVwqkyRnOn2pbxkkcLujhRPlX76uLWH2cXDMkxsbecyzgzF419vk/MCb+gqn+CwQN9nk6WQq5qvpg6Yea45r7BUPP+J5/rX+LOj4HEReJkYqA5Jn2srdI2c5zKMrWpN19mzDXxV3yknR7BrYeLqZsyZlRGzKssU+SHayLP7Zb3bOjEhuaWYGDGyDzSGh8wEdvd2hv62Bp16XmzKrJUC595sbb76IOL0VAyaIKHP2PmwNQgmOJKz9dlIg0UO5MYlOhGXmv7hCz32MP420tup7fjU55U9ssM7Z2e0xNsUpyK/m4yCy5fy5+7St+v6Ntg69auWfyCXCWEzo8sx4wh8lv+QkplGnxrzAZiE4pBr/84WTLFk3zmmJh42AKTHxHuduZrKcwYLRpiU/Bbcab2GhMvn/WHWJJfQZ7FK+ah+3PhbKNianJf2zK2pl1iT+87tPg4PzXmnfwcwCHGn3xTOS3+luB4DAWrz9NXve+xMniVcdGXmoc+BjU2rsATLl5XjoHDQ3x+8M8psuTxqDjLaw9NvtEuRsQ3YGPiQbnr8s+SrazPxiDmZicG9s/jc5xo/p46rtSa6KPModg+PNc8HvLVAU2+jOW+fUyWc42/fqCRIfkWZNV+3hapHf35ZOtFqA0UsyirziMlTDRX6g1UnuPzcTu91vfq/6rIUs/B0bb4YneTKHaiXRb4UbvEDnw+1M/TjJMl5MdZOa3FGXPuLBxvXDOmyNKSfIGtqGFjOfDUZEm3dmOBQeF+KJIylsC3vAaydMViijm3yDkHsnTFORHXJZzfdY48HVkq28L57nXk509QuO+alLckQMfoAlm64sKAObfIOQeydMU5AXL0UHPi6chSfd5pno+6pIzPp8PzctcXE+UYsrH0viBL18p3zLmlzg2QpWvNCch9tDnxdGTp0QIAe5ZTFECWlhMrzKvbxApk6TY4I5/vjzPIEnaKHmqr85GLAsjS/QvWI+fHM9oGsoQ58Sx5D7IEsgSyNDMHQJawMDzLwjDXT5AlzIm5ubL0fiBLMxfKpQca9p9f1ECWzscQebguDEGW1hVPzM/heIIsgSxhZ2lmDoAsDRcSFNnnxAZk6Tnj/ozzHWRp5kL5jMkBn30hBFnyeCA/gAfIEnLgWeoAyBLIEnaWZuYAyBIWhmdZGOb6CbKEOTE3V5beD2Rp5kK59EDD/vOLGsjS+RgiD9eFIcjSuuKJ+TkcT5AlkCXsLM3MAZCl4UKCIvuc2IAsPWfcn3G+gyzNXCifMTngsy+EIEseD+QH8ABZQg48Sx0AWQJZws7SzBwAWcLC8CwLw1w/QZYwJ+bmytL7gSzNXCiXHmjYf35RA1k6H0Pk4bowBFlaVzwxP4fjuQiy9Od//ufpe9/7Xvq3f/s3/AMGd8uBP/iDP0i/93u/dzf9yH/M/0fLge9+97vpt3/7tzEnUJdXnwP/+I//mH7zN38zXeu/71xC8Pe///3067/+6+nv//7v8Q8Y3C0Hfu3Xfi390i/90t30I/8x/x8tB37nd34n/fzP/zzmBOry6nPgL//yL9Mv/MIvXILSdGVchCz967/+a/rnf/7nrgI0AoFbIYA8vBXS0LMUBP7jP/6DFsml2As7gcCpCPzP//xP+sEPfnDq8MlxIEuTEKHDUhAAWVpKpGDnrRAAWboV0tBzbwRAlu4dAehfDAIgS4sJFQy9EQIgSzcCGmrujgDI0t1DAAOWggDI0lIiBTtvhQDI0q2Qhp57IwCydO8IQP9iEABZWkyoYOiNEABZuhHQUHN3BECW7h4CGLAUBJ6XLB3SbrNJG/63fftYSsiezs7D6yZtXvbpVhFaHVn6tE/bzSbt3memzrH9Z4o9ttut436sfUvo//G21Rq32ezSIRi9ArLkC7kUdP28aOH4SPvXmYXofWeAzwtNAf/w2gYhxGTm6RG2zJSIbuMIjJMln4dThIKKmxCQi+ToIe1e4/Qe92fe1Y+0f6mLR7H7Ujk8z4LL9boWRpez8HRJJU5U9y6ST/MsGSdLxibJdf08JYcuH7+Pt13af5rna9PL1PjZ5IqEXNIPg/GV434WVg14pzZcEjtjQ46l4McEONbwFZAldpgSd+sTn50WomKgOe3QAjooQZI32JJkMY3tg4LGL8yyZVwErh6HwDhZKrLq3cnIYqB5eaFcSCmR3muQJZpXI74cB+Fde18No7t65ZXfeodhnCyxbc3uy2m18PLxy3acOQcb33w8emeX9yOl68f9Alj1wDiy7RrYpVTW7EiOomnrJkvZWyr2mzQFRASmPWcSJOyz7UAt5c57aAJmGUPXBgR2m+fZ0h2KxpMRmEOWcr7t3spW/lDO5RzZveadx0vkQnaHFx+QpZHYXhGjEa23vnT9RdN7dBpZqnV5MztnLx8/WnjPnYNHk6XL+5Ejcu24XwQrnzonnF0HO5AlCcUAWSqkht/DcBOWA7IpBKs8Nqtt8nivuxDKjoGTJ4bw5/s+7T8x2clb0kK+2M4sv27pVr1Z3xxbnF/huWudUFWuFKs6rl3A67VNkv7kjRYK8YfHCg7ky3oeF84mS++CR2dHJmOTY07xnsA6xC/1cDVtkps1f0LuHXUqPtR3lWSHVvNIclbz3Y9p5oizdZcO+TyPFTma+0aOzA+2fToXeZeNHve0+XhZjIpRahPHVfHXGJv5NhLTSJ4VZyHD2SfFWoJpZL8eOoumwZJrmowsuGeMREbJ10F/dGA9OJksiU82vi4/zA1uaHc10uSO5Gexjv3OeJnxkpPqozwWFDs0ZtVH3zfMWZatMa/D2iNjR5uHEoPemtSKii2aKxaPmCtOf/AjCjTn3v/+mpX9EWxpqOIofkkt9PnYxc36IPPF2V4w6o41dtdDsaGDrdNVrjs/qpC08p0lAUkCVTzPwVdAOAhynhm0BKGw6TpWE9IAaA9LfyPbXuwcN/LYFqvfHtti0IxtthIlKbP9cszJIgnICb3Vd1K4nxQOvmMRbKTo0LlJsu3LLu3f825KmYCH1zoRWzs7QCykaT5ZqnfOih37mHOk4ldxau9uJGY2/2p/jyv3jcXxErhSnMUGsSkXzC0RHbKD9JZrkq9CgPSccrvaL7mki3/I/Wy697GcK5523ppcrEU7YhLPLwFOKgux4G58kFpQFkXBj+uRzC/qL9fYX5qbBmdazLkPz9f6jk2RpxgLDiKf5328ns+rfduU5+9B4pxt6vgzhNbJZImx0viLflHEvmi8pYaJbblf7hN8LedS97necZ/ic8W7ksWi1GIiGPsxHBfVyfFXki/Gj3128pCwGJkbY+L4Gs0VS6YjfoO5NkN47kLyWhsltwpO5brF0eVWjKHkQMxxxTfi3cFuyvxZ2Ba5Ndf6QldGloQMmE8FngHI4IU2W5TzsQXNvpBt+/XglCSRBOr1sW2NPE4eGX+ULZTMphBkRSxP/JnSl4eQD4LPBFZRfvGtJJ74QCRg7kvxFpwHPD6KLElhEGJK/uQiPrDwTcZvDNcTishcfDt2UR6JHyIn97MLmfhPbb1iFGwOuZ/FunydmYs178J4Z48YfYHP7LfMlywuP4aVv6Qi7MwCw9dlByn7p33ztYCB83/oeg9zsWc0JrIABhvG/Mk2hP9OI0sceyUZvfyw5DErDflC58PYtv3FXzNmIj6kNf+FlOAZ62PuEGIW4OmcRj/YTxdHIbPG1o4k29TkSpg/U7lmZXWPI1bkt7EvnlP/kFsdrMhu9T1jY2RmQ5zeFruurabRyy8XLLHjFvojFlknzXB3uDKyFICWCWa3CDmIsg1aP+0iVshWBK+XkBbNS5OlkijzbCm6A1kS/3myN/Z3kteRpSmsOuMzHoJDxtYtBhasBR4fR5ZkolfynXHRnHJFQDAbj98wrscXkdnwk53eriaPQszrnJIt+7ADQsqDzZ1ccnpOyEU3XuaCFubZCEx0NLsYZlGlQSHG1KZ+sv/yGMh8So54++PCXMZLXzHSjrH50sZE8jPWzBF/RIn5PIYsORtcbSg6oy9S/0oNCfkij/EMbiK/37/jby8+vTbydwAXjacBZfQw+hHPeTDLbTAZkG3jLl1K/PPcZR0drObK96RFNJRP0k2yTS51cSwY2jWBbNR5YzAOtg7G1JsSzuZiW/pNYbFyspSxk0Thgp+DqMEJ2OqpDVpdKHoJqUPyASVI770C10tPGnndiTfPlpKw1daixCfLHH0ueaew6trL7vE1KmCTeCskD31wNFlyuZfjaOITismc+BE4XVx9nC8KItlp7A53rKKL8maIiHTzJNjc6ePy9YRcdOMlFkM2iiMnfpb4lRsbXQxCjEm0+ln8174dvd7+SJZKXYgF3o4ZjUnW17OP7ej607HxGLI06CtjEn3x9oV8IbJkFufGtti/42/P/6ZN6m+ZA64+Zp0az8aAgYZoF8uPeXmkXBt3UUy2Us2ZzjUZM/jZ4LBOaZUAACAASURBVCI7f3xDTPaaeHT6Z9kevx4WRkZjTOzfdAgNc7Etcpv8C9KeiCxxEGJQGZCPtz19CZV97CZ/ZSQg9hLS48nBHPsLi/ed7i408sIEOcoWSs64k+OTYEpf9sUl8wRW/UIRXugOPnm8lnV2PFmSAt3ZHYzFZDJ+Y7geW0SOwJ3smiZLZWHz/bKWw1v+XrLewh5s7uSJy9cTctGNvxZZso/dIpGMMc6AGDzJvrhIpkPa85d+evvjwsz4hRsRN8boshEvMRFbwuI05o8VwscXIUsSm+CLxUpvehUvX9vUtE/7tKfHoCG/cocYj3je9GlluPqY+3fyVm3pHrQyKWb2Rkrlhth05ZVGF3fuR22Mlz2uYmqu1baBo4BVJWLcP87P0L9KFfJZaqLfuDghplVw92getgN6g8TVk6UClt/taQGsX3Tlk6qAKHdEdI0m9Efavw19AWBNBhknmFOC6WSPj154EvH2Yx57nC0y3ixYlLD1vNrPFnUmepwENMZN5IpVv1DExMt4zJ/0gtUjfs4lS0Kuiw8Sl4BBU0ykX41Xb7Gosi2uPJZy64gCOAPkkg/e9iaPSA7bYBe8T/u0swu/e/Ribc4CyrxR/wgfX1CPzUVvp9V3QYzCHHNznH1Qn5gU6DnPPz2nm5X6JYne/s7CHOWzvLqbOx6ThjzkMIz508mXy5Al0VsfWQs5qth04sf+2zpbbzBtfzac+ptcNudys+wxifjF805MOhj5JmsX56HEzawNFHtz7mW0Z2VuRN9MLZnItVZiaAlY/W/6tuuqr6kTpn+VlH2vY2q7OaJx/qa/H9OZc3gWtrxmT+C9ArLEjoZnnPL8On/WCVeDUpKLi7EhAxQYDhjJsABq+0TA5Q4z2NTaYW3f8l+U1UQ53haeiKJXF65Ou/pSdz2GMRGc8idPwDC+FqyyA3IwXx3f+l3jsKSjcbJkY2lwyg5mrDSPYj95ryd37MRJARrHtRSroFfHnnIQbMk59fLv6d9fTC5ofon8MCZc9/nFchQXuXmo7dR/VMZQLgY7OGcvj1GJ7e7dxtQsUDRHtmn3an5GwfhLqEkx5zlb5kqwP2MQ5pvMqepTyaN983MnHVmygyx1wt7M0M7SgD8SZvM5TpaCbsqhkV9ACD7WmlIUVl8jxjUnyxhrf7lRrmNL39gv4+n7cI13NtlYyl8QRt0GnIHDqsf40c2DAQEDzVWurSmm81k6KqYl9+o5rbGvO/qZmHz8xZcm321uxfqm+VfXPLLWYe6vVR8NdsbF7uGY30FXtj/mnchcAVkSV/AJBK6LwDhZuq7u9UnnhTSShzU5SoV4+sZqyS6Pk6Ulewbbr4GAPgJ2wsMrBu7a45yALD1OLGDJgyMAsnTJAIEsXRLNe8kCWboX8gvUa97X9daPvdbie97zDGTpnuhD96IQAFm6ZLhAli6J5r1kgSzdC/nl6S2P4dvHZ/ZLjB/ZK5ClR44ObHsoBECWLhUO/75DfZ/rUvLvL6e+W5HfaVnvoziQpfvn2pIs6L23OPSO0KP5BbL0aBGBPQ+LAMjSw4YGht0JAZClOwEPtTdHAGTp5pBD4VIRAFlaauRg97UQAFm6FrKQ+2gIgCw9WkRgz8MiALL0sKGBYXdCAGTpTsBD7c0RAFm6OeRQuFQEQJaWGjnYfS0EQJauhSzkPhoCIEuPFhHY87AIgCw9bGhg2J0QAFm6E/BQe3MEQJZuDjkULhUBkKWlRg52XwsBkKVrIQu5j4YAyNKjRQT2PCwC1yFL5c/o5ecrus5f+pug+ev/r/Inu3NsPVr/E3wnUzfwj98IsjQQo6NzfEDOEpvn1IA5fj0YhiBLc4KGPkAgpXQdstSB1vzye/2+nnO+q8f8+DEVMvv7WB39JzZdxtao3Hwn05V+GuXjrf54bdS+lPN7+QCy1MmQK82xe8W44+Fg08VqwJUwHDR8xgWQpRkgoQsQyAjchiyVXRS363PmnRoVMEs0rnnHdqat/Uy75s5SJmPnENG+xbdtvZ8PIEsDkb74HLtfjAc8HG6+VA24OIbDJs+5ArI0ByX0AQK3Ikt8R3U5ssQ7MyBL3Rwud8LLJkv39AFkqZtWKV14ob9njAc8HG4GWRrGZuTKd0auzb50mzv62eag45MiMJ6HTEo29ectSoErj7w2L/v0kXHjIqo/gWGKqutPcvh3lLT48A6LvTYWC9XFNmw2iUiY0Vl/fiASBqtrk0bfqbI2zLFV+5iBztb4+1FmZ4nGFn8am8y1zcbLUD9zHPgxp7YRnpukMTJmxUMaQ7E08WYiWuVFLFPysQ3XTTxqv9An9eNRdQ7lGbd3ybLI/FH6B8FgY2KteEZbKipzyNIYZipJdWV7JXYGY979q/iYeGnuDNtZ9NQ8snJsHqmtYo/BzWMtNqoHJsbbtH/fp63MN5El5zaWUhdIjMTD57fXW/2uPuzS4dM+7d6owlSDekdkS8GpymVfjJ0Wkyym9s22tTjX67t0MDrUBCO7xlev9g90XlhcRLfNjeNytiqzcm3e1R72CDtLFg0cA4ERBMbJUh5YJp8rNDrhq+CPt3065FNTQHQnqdO/9vOFwump4sMRFwRT9CthY/IkxVv7lDFqE9up50GDO1Wf+rbWAi/XK4EU+bXPJpXfjTNFjW0sfcyClfXqwsP95TxjKr5FfMleY4tzxp4YGyxZ5fHbl4Cl6JaFRvTLuSw4ipddIFmXjinngo/kgz+3PpSFRPODdVB/o2/7suNFPY/lxUd1Ft+n3pMZJ0vjmO0/Mb7ZJsWLx4Rz9SUPiTHMM0/mlA2ZO+4vrpJru3dj68uW8oUIAOFRrlUbpG/NP5ITbN4oOerbTPLDGNVhY5b9oPMQYx0b4u38rifia7ar2sZjX7Y814TYV11+rsX4MJHSvBGc63iyXW1tx1cLwxHHuZKziDvrUt1l/FTOihaPf1+W9M2fIEsWDRwDgREEpskSFxotDFlYnIQfaf/Ku0z5ciz88Tz3aQolF41QJPqmd/p2dLjCkfU52R0ZfWXzbA3++GKcBRfMlAw0ZC5iku0zxTlilvXZmJgX6Ftshxwr7Q6n3NTB0i2cdD3YFnOiI8PpmYpHwLPFL+DJ+nRhFpdJTiUAJMfiJv3M5zhZKh2dL7nJ+TsROyJCWx+/iF/ODzunjH3+sJfHvo1s1Z0tHt3gUn0gDHsxpjFCoGv/mtNMMgTfRkexS2NE100ekU4TqxN2lop33n9qC/64fI7xaOyOZCvLN3ZnBdEXhrn5cHnCV2Nbo/+QdoJpI9A3UKxNnYvnvjfIUsQD50BgEIE5ZKksBLU45Luc3eu2PlqIRS1O/nierWmKS6fADVrd6dvRYRe0Ql7K3afchdLnnCI0x9bYpyl4xWZdKCbJEhNS8yhJ7C6Lk7kefYi2DOJYLlicqKWDpVtcBuSTHFmUOzKsnsl4DOjI9tmxulB39LF3aRcew9UYlB7x/+eTJRObED9v7xFzKhqp5525IDt9nBcWdxlWMDTEhC6wrDyuyd8OOepgbnW5nBHF9rOJMeu3u5y2/9DxkBxDGmINq6JMrBivrt1OhxkzFN+qwB91MJMbgZqXRb6ev+/mvzIg2lgP1QyLg1znT+wsBUBwCgSGEJhFlnhhL5P3I+3fDu5OutkijgUhnmdjXPHJDf2i37e707ejoyncI0Wjr4db59g60EcLXmNfxwcnIxfMupgO2Uc+csHWhdjJGRpZ2y1O1NrY6ncXy0Lb2ubkdGTY6yRjLB4dH4peeZejLCjqc0efeGgXv8NrJAjSq35ehiy1+FQN+ajEf/ac8oPNWSePZpClkjcRiyqrYB2uR4zj+Qy9xvBODShXJc55odf54waGkyZXqh/ak2y1MRHCU3z0OVLfodLxTse8ualj7UEHs5Ys+fk2J2dVBcuXXWeK88g8A1lS5HAABMYRmEeWzOTVxz21IB3ezCO4rC4WhHie+7jikxuqvHGLB/p2dNjFuegLxT8X92h7T/kcW5s+4mPdzfKFv+Ovk1Gu+zEF2/17ka1EISxSLbY9p2qbwyk3d7C0i4lcj7a5wtyR4fSQryPxcFgIlu1ipxh09KmHes18N5debA/OJ0sTsWOViumcOdWaKVLS/kXeg5NOXr/DXboQvuaRGrWbcb3riiMLieez8tA8XowxDjvUhTS1OSIu6GeU06slZKvkT/HTPpbXWOjOpfRlLU6HwUmNMHPTtsXjDmbdXS/tNy9ni5pCAO28dHMy2oJ3ljqIoAkIDCAwlyzJhM4v0NKL3FkeF1RbdEiNTnRWas/f94legnXFJ/drCxiP7nzYvoe0z38xY3XwCL9I8Bj7yCoU546i0jTH1tgn22N1NcKtD3wxyqBzv6DpXSZdq7GgYi93kEbO9EvC4T2TbEoHy7hwEbZ254vGmAWmI+OoeEQfIhbxvKPPQl7s9Vja6/b4fLJU54aSOSISNV6kjzGbNaesge6Y80gef+ZrhE3V5XGXwVPj2uuCYd7xKX6FxZljQo9+KPd598bOAzvnqH/JGcrTmEP5uh0rpsdPI6dc6swtlx98XWXH82i3YJFvfDjH2dfR+EY78znbUWtmkW0JjgwTvK0Oudb/ZLulDjTvwbWjsLPUYoIWINBFYDZZco8NRFSZnG4ycxGhgqlF1RSb14N756QUH57k8vxfi5joaT/L4p2Ll/xZb93BcX8F5N5/MHbk9qP0SKFsbf3vt/z+lujnYipFUdvlel7EgowGE1mMZOGTsb59927l1MVRtvWzTb0iXNHs4BHil8dL0S4+Vj1D7Uqi2ffT4lF9Kz4EW1939C4S+fgvXxj8DUbV0YZA2EvxeJwsBTtyDnUwI5mh3c0T6lBk+RgVv9u+0Uo5Z3sMHrqgyw2I5GCT7x1fRCx91hhknHdv5qsDuF+dh2V3i3LC6fEy/Jyr1wgDIlKHslNGNhvy7eyqJ04/EZkqk/K1Ex/C1sVmy+9g5nnG+e3m7zbt33aVKIl6J2Mg76Sv+/Q2Dsaa5Nf55kQMnHg88rulXDtcTOpgkKWKBY6AwCgC88nSqBhcbBDgHa/Ybu+s4zWcXxGB+Y8zxsnSFU08SbSQJd3vPUkKBj0iAvNz9lTrQZZORQ7jng4BkKXrhPzwOnBX/Gmf6J2j66iF1CEE9L2goQ61HWSpYoGjOyJwRM6eaiXI0qnIYdzTIQCydI2Q8za7vjsgOuZ/X4qMwOclEMi7L/MfZ4AsXQJzyDgPgeNy9lRdIEunIodxT4cAyNK1Qu7fS4jv+1xLK+RWBOo7VQO7fLWrO1oOWQo51pBz5xZOFoDAqTl7qmsgS6cih3FPhwDI0tOFHA5PILAcsjThCC4DgQkEQJYmAMJlICAIgCwJEvgEAgUBkCVkwrMgALL0LJGGn2cjALJ0NoQQsDIEQJZWFlC4M4gAyNIgNLgABDwCIEseD5wBAZAl5MCzIACy9CyRhp9nIwCydDaEELAyBECWVhZQuDOIAMjSIDS4AAQ8AiBLHg+cAQGQJeTAsyAAsvQskYafZyMAsnQ2hBCwMgRAllYWULgziADI0iA0uAAEPAJLI0tDvz3lf1/L+4izB0KAfu/qiO89Orb/lKvuB1X7nUGW+rissbWtJ2v0ctgnkKVhbHAFCDgElkOWzI9+DvwopHMMJ10EPt52af+pe+nqjfVHPueRpWP7Tzpgfvh08MdLU0ogS5NIrqAD6kkOIsjSClIZLtwGgeWQpYLHs98JnpcV+Ruf5xGV8/SMjD52p+jY/iOq6RJ2lqYQeqrrz15PQJaeKt3h7DkIgCydg96yxpadGpCl7WaTsLO0rNy9lrUgS/+TfvCDH1wL3vSdS0he2iJ1CZ8h4/EQmJOHVFA2m7TJj7/sL2HrXb/9jar4g6Vmu3uzSe7dIh2fkurYxPFG9uuh9LOP4ZqdAtaXfyeLr+XfZXN6k9XXXpsTpWrvJm3Cbk0twN72LLeOa0lLfewUZBJOuU0WeYOpYjHud9Vb5FAs5zhqdDc4zoqf9XmXDmbMHPVJ+xufQ45438Zw3ab9+z5diiw5vfF32UzuNbilsVgN+VnH2DzxeW3H5jjbuVTHt/PC5KmdKxr7FtNZsbtGJ7Wp5LHzX3Ml5Jyzw/jaqyeu751OnI82himV+cBz2MYqmzrLf+8TdpY8HjgDAoMITJKlXPRlITDExBbsWpS5EIUFXO/iuQjkcz9eSEAZXwtgOY/jdaE3RaX0MYVQyF0SXbXo0CKnNtox8xaFYrvI40WI5A0sVlzEti/ipx1TQkM2Cc5Kqow9BnsJZvXD+sCktuO3LaYiY/Qz6Cx+F5vmxY8XLfVL7DR+jRogC0BeHGRMkSE5MhyLIpiua6xrfDSnOvrnvLPk4sU4iU0FZ8mP6kO5Lhjwgse2CbbbF+/nhrDzY0SPxEB8qfmQneIxnfEyfzx2tn8F5Z7vuFUr+OjsfCw+Cl5KPDQ/Go23b6BaIbkT6sTZ/rfugCy1mKAFCHQRmCRLefLaYtLdWTKimRjQS8T5WBfK3Icnv7TZviTCX3cLkr1u7QkFpNGRxzk9pWDKgkNWvW29j6Rr+H9+AWYyZmzyi1bSHS4t0kJkZAz5IIuk6A2LV+MnExGREbHNYpzfnXNRNfQZ7YrnUX60ga5L4S9KhBTMfsl8QsdoLKK9iomQ1r7jk2SpI7fmaslhm19ZC13XnR6f52RF42ckmp0xAe9qQ/HLn3fGR51NvA5pp/nVx+qmrRH3eB79mcBHa8XD+NjJHRuT6G88n/C/FyuQpR4qaAMCHQQmyZLcoZqdGhXTTE5PDMrCWLeM8+MI+ifFqRlvC3qncMiiI+OzIVQw7OJnZbClTk9HLl33i7r6OHrAhCZgQ4vUqI2BYDn7qkK3wDZ+3oAsVVP6jw8buz32kciQuGaMUdI7bPp7HXVIJxY0NsS1g2OVUY4myVJPrgppyThdojGSpx0fGj/nkKWYA2wE+0hzTW5MAnGoNlmSHmx/3zWPr9XNOx+UuWF3HHs3AxbnctwlsXau3tWvgr+9qRoy53j/+5JAlvq4oBUINAhMk6UypE5OKfi94uTJCy2WWqwb1e3OhyvooXDzcLLDFrdm8bMFkgfFhSgsdo3Mjqm+qdgmjx8jKWjkNTZ6slRIpV20ijYnpyPDXXfYjfnd6vG++TPSIe9KkQ1mfMQ12ODtG7DJq2vPJnTo4ybetbGxKLhenix15YrlHKe4KPtdvhk5KjcGOn86Y6SPzAfWLTvBhP/Y+AZbn5eH14Cd+HjHz9PzcWY9uaNv7Y1fa8zp/reycgvIUh8XtAKBBoFJsmQfu8Xi3Cm2ZVHgIkvX24J7eNunj2xJM94uCHwsCwFb3izADYmwMnjQkB7Z6dLHIw08nYZWvl2g84BpG/2iJEUyLrAkRxa7xs+op7WrwbfBoeOeaWpIAdkwnyyV8aZ/ln2kDW1/66c9Loa7WJAuQ+5zlw6OxmU6nNxZGpBRyAXbFPK2+CFzobW79XPOzlKRU/KmJQMufwKRJUd7sVDfDmknuRcButP5efnYj0szV+/kW1HbyYt8gWvwef73HQNZ6uOCViDQIDCHLMkOSh5ME1aKKC9GdZG3xZt6p/1LfeGYlH/ap90bUaXOwhmKRZTPhdw9ytPiLq4FGbk5LAq5QM7Z6haJ/pPl62IYzyOJ6S/QsfBR0daXmGWMJRphMWRsKhbTflscPt726eAda86KjdWGeG7llcHRBt6Bi1gRSa1yG8W2IcRO3zOhHIzYD5wbMlxwLo+Dh3JgkiwJ8TByaYfr2Hkh/bO/jZ8xj9g3q5PGCAFjrFVmPI+x6evMpghGQ/jY8NzyOOZfPG8xDD7znNF61asnt3Soo6v45OuT7PBFf+P5pP8dfSBLHVDQBAR6CMwhS7t3Lry0yElxrsV297ot7yLl61qsRZsUef++khQFWuyJJFgdlWC5fi/7tH+t10pxYLn0qCjIeD10/+pOFoOiu47XIiqmD31y0RXbq/9fpC8zOZQdq0wSXN/yNQVef8VzqF3McFi4P3ue53d9ZDX36xK83O3rjv7sPvv3xZcm5iPxk50cwWr/tjN/2Sae9T+dv0M6HL7bVGMhuHofdm+X+uqAkNeWxGR3nF128fP25Pni/cx9g2wim7Lw79JO8suSa7mR0Wu7tMtzJZ+/fJm+0PYyR1udJgZku+Bn2u9+6LE7JR+d37Ge3N2/YoCzUR6B06Xz/Y8ugixFRHAOBAYQmCRLA+OomYrqzB2CMTk3vja0qyJ3cDc2B+oeDIHpnaV7GCxkaWo/8BK2Pd4juEt4BRktAiBLLSZoAQJdBJ6OLOWt92b3q0Cj71J1kULjsyDw9GQpvKf4LHF/Rj9Blp4x6vD5JASejSyVLe52Nyy3P9o7GicFFIPORuC5yVLewXrER3BnhxUCOgiALHVAQRMQ6CFwKlnyz9Vb8tHT9Sht3vbyXsfs95UexQnYcTUEHo8s+XdV2vcCz4eivi+3rLl8vufPLQFk6bnjD++PQOBUsnSECnQFAotC4PHI0qLgg7ELQgBkaUHBgqn3RQBk6b74Q/vjIQCy9HgxgUXXQQBk6Tq4QuoKEQBZWmFQ4dJZCIAsnQUfBi8IAZClBQULpt4XAZCl++IP7Y+HAMjS48UEFl0HAZCl6+AKqStEAGRphUGFS2chALJ0FnwYvCAEQJYWFCyYel8EQJbuiz+0Px4CIEuPFxNYdB0EQJaugyukrhABkKXpoNKfVevvm033f8gezW/oPaSVD2HUPLJU/pwfXznxECGDESciALJ0InAY9nwIzCNLy/75g4+3Xdp/OiW25je6lkaW7Lcwm98pwxdvTufBPLI0LQc9gMCjIwCy9OgRgn0Pg8AcskRf4jjwEyEP48igIXkH4Lwv2lvezlIheY4YYWdpMEPiBZCliAjO14oAyNJaIwu/Lo7ANFnibw9eKFkq39b9ZGSJd5JAlk6bLiBLp+GGUctDAGRpeTGDxXdCYJQs8W7EZlN+EiR/0gKsuxTymIrJSOxvCZaOSan+3IgnMbV9lw6f9mn39qGo1J9jyLb4cbmTu856XVv2wTxKc9esnaTR/LzE66HINmPVKD4gWfm6PO5SeYJP/ydVRm1wWHp/VV/ydmZzKoYSM/6dL4N/crI5pm7sc/822CyyZPHMwJvzGgMft9xtMOY6XnKmjh0cE+WFeVHtaOeT2FvmdtXFKf0UH2O4Jju3cu3QOV2gGZuDVa7HVcdInWjkSuzD3CWVfC3bYeavvDNXddo6V+uD9IuBBVmKiOAcCAwgMEqWaIyZpPncTPTtyy7t3/dpS0W6TEydlHZ3w4zJxbn0CXJzcVJC4mWVoi8LOI/TvrwASTHjQuLtaIuWXo/9uUjqrozYbvRVKNkWImLbtBViRbaUa1GOnFNxG7KZbBJ/ZYHN50Zf1rnhPmSj8ZF9El1kb2xr/C5eHV6r3urncx1NkiXJCbl5MOfD+T2Sp2a8n1NlzFCujs+L4flUFtsa57LQ1vNniPb0/GvnUyFM43Nw+yI3H9yP6kYYI/Oe4y7xJZu0zjDRob6V9BC55T4+/rZOmAiGm05zhQ5BliIiOAcCAwgcTZaynO5CWyZ0XaDDeVys5a5YigNdNwXbTHIqCtJPdkDknMaZwiZyXUEy13N/GcuY2CLliihdt0WvDyKNEeIiXXIhFBusnNw2YXOWV3GseEubtZdEkzwzJp7nTp22iCv1cTaLM8/1OUmWenh28HVxousmD2Oe8nhZOAnx3DaSqzF+7pzk9efTVH6tPtoTsaC4hXlA2JqdOxfbXj7EOiXxHoln1OvPuQ5Zu4hs2ZwKNZd02uttZEGWWkzQAgS6CJxDlmTxjoJLYSlbydqHFwM9b4qHvfsyRd4JN3dYUnSoYAz1l50wUzD4bq48fpDtbtmlKTa4Baux0xlEJ03hlEJJuz9WB2+Rj9pscfBjxa5GX8Q2nmcrZ7TluNn4tJ4+R8tVyNJozAfiM5qrNhadeeF2Ie38mM4vK3mVx6OxYHwsKckg8PyZPQelBkidGqgjpVba+FRdVKPUjo5d5IepbY0Ou7vYjyTIUh8XtAKBBoFLkiUhSaWghLuczmLdLPpSYJhkSGGq7w+UokJ6uAh1i431MhaUfG4KmO0qeqrecrVnpx3Xu052aaGzveW9olAgtUspimOkpdEXsY3nWXavTYor2fmR9q/7VN8SU4Oe7uAaZGkyT3vxGc3VHBYhSe28kKAVvYV0l7yezi8Zu9bP8VgwpnHuhvhMzkGpZabWNGOkj+xKsw6pT9Rf7ZhHlso8ZwJlvz5kIJggSwPAoBkIRAQuRpYiKYnv/oRik+1wxcM8dsvXakFriwRdkyLUkVtkMxmJdlF/fzdW9O3rO0EiO1+IdnKb/XB+yAXS2xKiw9s+fUzY7IukCDykPb/w3uiL8uJ5FtFry+2Cz7t/oV60PuPnNcjSEP76jlgvPtQ2kau6mPKckdwdnE/h3SkNcM0vbVrrQQ9rmudlvtL8EgIjGIRYTM5BqWESj4E6Uud6IWn2Rq1ey0a0dVDnrvsOudpPc0t86HyCLHVAQRMQ6CFwHFnigtorNrTomvdm4nlnjCs4oRhRIaBCw5Nfi87AuStu5ks0hQx8yotJJkS9FyFjf3kJvZIM+2JlxNH5oRejnUVW+Qs/vjZkM2NlC6f9Ys1GX8TWnr/vyxdy2ja1MR+ILe2i7Lo90clVyJLibAm0ybuB+FCsu3kS8yuckzwT0zwPZA6xrqH8Wn+oJefHY2HfOaQ4GGI6OQeFLJnYlViamLgYxR2teM42Gxv6ZElugNq/4OvFFWSphwragEAHgWmyJLs8/F4PkyB556c+LpICxO/ZvO7STh6n/csXSfrnz9176JsLCt0JH9L+Rd7TMUXF6dym3euW5Umx68hTX7no6F/hlQulcIkukVOu2UcXeYHZv9o/x1XBhmiwHFmMtEuwy10P10xRpeG8oAlu9hGKtNHi57ARkmdk5+Ia+tSYGX+dbaZdzqUCRgAAIABJREFU/uJLfVr/wSRZinj+f7vp/CbYTFyav2aUXDQ3HAz1YK46O8K8GJtPWW43v9Yf2+rhQCykwyA+YVyeNy4OZQ72YkZtL7u00xrnY+3qzmaXdrnu5Dx5+TJ9wbWUzl8PzVeE+Dldap5vE8f8J8iSxwNnQGAQgTlkaXAwLqwDgfDIZh1One7FJFk6XTRGPjEChSzd5r3AOY/gcihAlp44IeH6cQiALB2H1xp720d8a/TvWJ9Alo5FDP3nIHA7smQe704YBrI0ARAuAwFBAGRJkHjWz+k/L342ZECWni3it/H3VmQpP86b8wguew2ydJvYQ8sKEABZWkEQj3bBvnfh39c6WtQKB4AsrTCod3XJzreh9x/PNNC8N2Vf3J+SCrI0hRCuAwFGAGQJqQAEPAIgSx4PnK0XAZCl9cYWnl0YAZClCwMKcYtHAGRp8SGEAzMRAFmaCRS6AQGQJeQAEPAIgCx5PHC2XgRAltYbW3h2YQRAli4MKMQtHgGQpcWHEA7MRABkaSZQ6AYEQJaQA0DAIwCy5PHA2XoRAFlab2zh2YURAFm6MKAQt3gEQJYWH0I4MBMBkKWZQKEbEABZQg4AAY8AyJLHA2frRQBkab2xhWcXRgBk6cKAQtziEQBZukII+bfW5n5Z4hUseEKR/P1O9sd3AwogSwEQnAKBIQRAloaQQfuzIgCydOHImy9MBFk6BtuPtH899bfk6g+Ib0CWjgEdfYFAHwGQpT4uaH1eBECWrhB77CwdD2ommS+nkqWsDjtLx4OOEUBgAAGQpQFg0Py0CIAsXSH0IEtHgspEB2QpJSxSR+YOul8FAeThVWCF0AUjMIcs6Y+iyiMmedTBpGCz2aTNZpv2nzIQ4bfBOn318ZTIo/H2d/vMLoHRIb8Dln881esceAxjxlb7bhAsJUsWC8HH2LrZJPEpKRbS75p2VnwFy9aOHNN+TGRMjoGOE3PVjzg+JcojirXNF4+Hl2nx6+gy8d2+HdL+ZZPwGE4CgU8gcAYCIEtngIehq0RgnCyZxeplm7avh7LgZQJEC1VdTMtCGM7jTsH7rv5CfF5U9TrrofOweHKfskBX+YVcWGJRCQAFasK+qwZTF3GxT3AU+9lHIZJszMfbjgnnNa0z+L5s045JBpGemTERgiSkyZHfbkxT8vGz8S6+KiFX10sfJ3uzqflDGAu+Ih9kSeHDARA4BwGQpXPQw9g1IjBOlorHkQjl1tymC1luYIKgbbTDIOSgyPl426cDHeaFsC501ET9pY0XU0sm3PWUpsjSpH3FpOv8P2KRtcS2Bp9D2inRuI5ZVWpLVsqOoODPPR3mnZjILiLFaTymRJaMf/G8IUtZt41/oyvuNPUJaPU5Jfw1nEUDx0BgBAGQpRFwcOkpEZhNlsxC1zxq00crdgEri6vsQqR0SPu3D8bY7G6YsfkRTCFbnYXZLdxTZInHB9n+Ec8Vwx2JEakqPls8dvYx1vuufaR1NRM7+KYTYsKkuewQTo0XZ0w/k1ORLMmuVY6Z+0djigwl5iS655PoLJ8gSx4PnAGBQQRAlgahwYUnReAcsuQXqxZAt3vwvjePmPJiF3Yx3PDOwncCWZqyz6m85MksssSPjpgwHF79LtwlzWlldfAlsnRkTBqyNDZeSFLx0+WGk1OspetuZ8l40cW355MZk7Cz5NHAGRAYQQBkaQQcXHpKBE4jS/yybrOY2d0j++gpfodOWdjqLgtD/2mf9u/5uLPwHUWWZtp3rYj3FnNqC2RC+x3SrsHyWsYN4MuYHxUTN2Yspm08p8hSeczaEsjDW/56ASZeDrNWR0QQO0sREZwDgQEEQJYGgEHz0yJwKlmSd3Ds4tp7Qbk8XskvEssjOIaayI88dittdXels/BFsqREo4ylxVce2eRFlK9P2XeVwLPu+s7NAJGQHRV9/HgVazpCO/jmXnNiYv9CjvobQjM4nvXpY7d4zuSWrn+k/Vt+s63tk2MqeSTx1t1D1k2P7ByJqu6DLFUscAQERhEAWRqFBxefEIFxssQLlpAQXewYKCEFfN0SE4UyLqh6oS7O8k5KWfjkcQ2/q/J64L+kqu+uyAJJREx1d/50fI591p6LHns/xOZGxRg+TedLNHi7KqFj2ZZ0OBLHufC6S/ldqxKzsFOWRQyNd+3btHuVr39gsqXXrczx/LPx37zu8dUBl0gPyAACGQGQJeQBEPAIjJMl3xdn10Dg1o/gTvVByFL5e8ZTpdxzHHaW7ok+dC8KAZClRYULxt4AAZClG4A8psJ+99RYv7tfA1maCsF3pjrMuY5Fag5K6HNtBJCH10YY8peGAMjSPSOWCYh55+eepkzqBlmagghkaQohXF8MAiBLiwkVDL0RAiBLNwLaqKnv2tj3c0yHhzuceM/p4eztG4THcH1c0AoEGgRAlhpI0PDkCIAsPXkCPJH7IEtPFGy4eh4CIEvn4YfR60MAZGl9MYVHfQRAlvq4oBUINAiALDWQoOHJEQBZevIEeCL3QZaeKNhw9TwEQJbOww+j14cAyNL6YgqP+giALPVxQSsQaBAAWWogQcOTIwCy9OQJ8ETugyw9UbDh6nkIgCydhx9Grw8BkKX1xRQe9REAWerjglYg0CAAstRAgoYnR+DyZOmO38fDP28y+NMiLtblz+G7P9Hi+uFkLQiALK0lkvDj6giALF0dYihYGAKXJUvm+3gGfsz0kvD0frj3kvIhSxAwcZXfhdP4MjmW9vwZf0NQxNz5E2TpzgGA+uUgALK0nFjB0tsgcFmylG2+1c5SXsCX8qWOt4nl1bXQj90OYD527eqGzVMAsjQPJ/QCAvghXeQAEAgILJUsfbzlX60fWLiDjzi9EAJjhIgegT52PECWLpQHELN+BLCztP4Yw8PjEJhFlvhdoI08atFHMKzLXN++HdL+ZZM21Mc/vtH3g2jR3Xiyo2253fxemr6HJI97tunL/zf3Mf/ksU+zmFf9WffhtSdX8DI7Ys6fD+lAn/WnSjZJ/XE9VnzS4Gt8JcxasmTxKjkhYySeEkeJTY1ZjrFirPkR4i+xT3WcjhFV/AmyFADBKRAYQgBkaQgZtD8rAtNkqSxCugDxoqUvUYdFsuz4CFnKqBoSYkB27xtlmbrocf98rgvkJm1fdmn/vk9b2U2ia3VxVr1yPWt+2yaxs1znBdnILdfrQkskjG1xY1JKtPCrnXZMtcO4uL7DgLlzMORBvpbx0rxhAirnXSyVhE/nTCFhQrDYkk/7tHvz5NbaCLJk0cAxEBhBAGRpBBxcekoE5pIlIR2J7+DLeVnUZAEsADKJ0IWvkJZKhrjX2z6VZS3LCGTDLsphkdUg2T7SGNrcYk2Lt1lcWW71q7NAO3mBNDIZi36JKav8JDxkJ6j3aeKY8VViWdCwBImOTY7EcyKqcbzmTJZX4lHjl8mZ0d8JAMhSBxQ0AYEeAiBLPVTQ9swITJOlik7ZaSmLZFmk2gWrv5MU+n3ap/27yC3X3GM1fsRGOhpSw+MckRloM4u7J3QppUbuFFnqEEOSbwiYuLTWzx7m4ivhaciKwd7HNuDFcaA+hjw1ZMjlTFFqyRf1D+RKTJNPkCVBAp9AYAIBkKUJgHD56RCYQ5aEJBXCYYhPQzgyfB3SIY+weDH8eNungyKd5ZlFVtv5oKsjpdRbuHtt5l2W/rtQorBjd5RH53Wx94u1yFnxZ8TDutojS2PkRUgS94k7S1m0bfM5w4qtzvedPnK1ZtljkCWLBo6BwAgCIEsj4ODSUyIwSZaaBdKQJSEibkegQzoysirnkHad/r2dH9p9OoMsuRe62VbV08jt2K02S2pwH325vBIn6bHqzwYP460lLrk5nnPXQnpKDmksAjFSqaov5oz0qDHzsZbr/hNkyeOBMyAwiADI0iA0uPCkCMwjS5t6104LWD2XXSd9d4Svt49VysK2fakvXSvkQWZu18WvITU8ShfS/E4U71SZtiKjfdFc7Wzk1oXX21V3vfJOh47XTk90EPB1nndjmB/ZWkIppKeQpfrXcfFcJI/kjHRhvVWWXGg/QZZaTNACBLoIgCx1YUHjEyMwSZbksZrsprzu0o6PZWeAHpfo9b356gAPbO+lXe0hix7LIVLSa9MBvMDyn5cLaSvvxxSCQ4TLypAdLdu2yQSoyhKS5+UVkuT8FH87f94uuKipiz8I+GTfBcuYH/maefzmMavEyeO7S7tXfmHcjM2wjeYM4Vpsm0NiQZYWn4hw4FYIgCzdCmnoWQoC02RpKZ5c307dwQqqdBcstOP0NgjMxR9k6TbxgJYVIACytIIgwoWLIgCyNBPO/NhOd1P8mIP7k3Z/DWfXRkAe7U3rAVmaxgg9gAAhALKERAACHgGQJY/H0Fl5bFTfX5J+uX3OIyDpj8/LInAM/iBLl8Ue0laMAMjSioML105CAGRpPmyFMPkvY1zf+0nz8bhbT/PO2TH4gyzdLWJQvDQEQJaWFjHYe20EQJaujTDkPwoCIEuPEgnY8fAIgCw9fIhg4I0RAFm6MeBQdzcEQJbuBj0ULw0BkKWlRQz2XhsBkKVrIwz5j4IAyNKjRAJ2PDwCIEsPHyIYeGMEQJZuDDjU3Q0BkKW7QQ/FS0MAZGlpEYO910YAZOnaCEP+oyAAsvQokYAdD48AyNLDhwgG3hgBkKUbAw51d0MAZOlu0EPx0hAAWVpaxGDvtREAWbo2wpD/KAiALD1KJGDHwyMAsvTwIYKBN0bgJLLU/Aht/uFb/5tgN3YD6i6GQPmttWO+v2iWavpupPZLPWeNvVAnkKULAQkx60cAZGn9MYaHxyFwNFkyXwi45G+u/njbpf2n47C6ZO9767+kL1Oy6pd5gixNYZWwSE1ChA43QAB5eAOQoWJRCBxNlrJ3nZ2lRTmd8u7JPRfue+u/Q7SwszQPdCxS83BCr+sigDy8Lr6QvjwEnpEslZ2O+5Gle+u/S5aCLM2DHYvUPJzQ67oIIA+viy+kLw+BuWTJPUp536ftZmN+QPYj7V82afN6UABq/106fNqn3duHXpOdqc0m/85aS1rqWH+9tsuY8n4NyVHdxhbeAcvX5R0cereK9PJvvL3sU7ZM2/P5+874Vs2mI7Or1tpT+9Zr3gfVIzaw/jqSj5RciI+7VNBl/3i8+KXjjc+bTcF+S9iInBqnaqPg2ds1rHhKf9VpHsmSLjWiHFRfd+mg/oRONzzFO0s3BBuqlo0AyNKy4wfrL4/AHLJEi6Qu6nWxLu8stYtwyo+5tH+5rgssLeZ1cS4LqhABJi1KfITE1P6pWXTrYk56hYTkT7ahLPJVRyMj2yQ6DRlq0HbkQAiY1V9GkE8iT4nYmA9ek5CSTCS3L0I0sv1Fl74rxvboecBWSana0trqsDD+NbF92abd24FIMcUy99UYs1w9j3GUHDEYeJdvcgaydBOYoWQNCIAsrSGK8OGSCEySpbgAZ+VxkeZFXHeWaIwhJ2ZnKRKJsqDzItrTRe8X1d0Qt7gTEJEAxHOx1yzUZH84Nwt91qEEJIJNNtpdNSYGMv4kH6ISsdnrId+V+OQx1tdyrKT0VGwa/1iH+KdyDX65zWJKxyb+2dK3bXcXkcTd6H8gSzcCGmqWjwDI0vJjCA8ui8AkWeosfLJjUQmFXbSzfXxOuzx20ewt6MYfu+CaZrf71PQZ0G1JRRwTz4WQmd0oo94fNmQikKVGdhk+7oNXQWcdOXXHiR8hyi4aEZmye1NjkqWcgE3jX5SR5cpOUbCDH82SnY5cBTLVcfcWTSBLt0AZOlaBAMjSKsIIJy6IwBRZKgu0JTzj77VY0+ziXnY8wiM523lk94GIhiy+DYmIi3k87yzUjYxiSCE0hQB40mEMbciEJ0vF57DrIo/iBn0w8uWwYyPJtiRQ+ubPjl3XJUutj2KOi5c0dvyRS7f6BFm6FdLQs3gEQJYWH0I4cGEEpshSebwSHgc1C3MgKOaxWzbXEq7uQir9Wa5/lBTef2kW3aC72U2ZQZbCY7eujYJ747snS0JajvNBhJvPxk/xIxDXTMTe8kvqPSJ6AjaNf1EGRbS+u2RMzr7v3yXegUz1/LFjb3AMsnQDkKFiHQiALK0jjvDicghMkiUhH/kvq1htuwMTFlRacM1imRdKt6siL0cXgfYLGotsMzbKCou53b0q70wFW7KKuFCb84+3Pf+lVvXv2B2cSK4mfYj6e+E0fepl9k2wzBeEaMru1cRfKXpb7eM0xjzg2+5OsTVknyfRh1fBkOWqnWw3PTY0sa2O3eQIZOkmMEPJGhAAWVpDFOHDJRGYJktZm11UN2n3Zr86wF8jwkILePnLqe7XA/BCW6554kTa8k+nyPs4hqSJ34WMlD5b/gutQpRaWxyZUiJR+9EOEO0s1bben8GT7mD37t2SgGyPkAXebRr0oeqKO1BZj7c5kougUwlJQcdioxjaR3dMhso1+Us71tH4V+2k/lZOVtf0LzbQ/52ebdq/7dwL3uLj4ONOI+pShyBLl0ISclaPAMjS6kMMB49EYB5ZOlIouj8IAkysIsl5EOtubQbI0q0Rh77FIgCytNjQwfArIQCydCVgH0IsyJINA8iSRQPHQGAEAZClEXBw6SkRAFlac9hBlmx0QZYsGjgGAiMIgCyNgINLT4kAyNJawz7xvtFa3R7xC2RpBBxcAgIWAZAliwaOgUBKIEvIgmdBAGTpWSINP89GAGTpbAghYGUIgCytLKBwZxABkKVBaHABCHgEQJY8HjgDAiBLyIFnQQBk6VkiDT/PRgBk6WwIIWBlCIAsrSygcGcQAZClQWhwAQh4BECWPB44AwIgS8iBZ0EAZOlZIg0/z0YAZOlsCCFgZQiALK0soHBnEAGQpUFocAEIeARAljweOAMCIEvIgWdBAGTpWSINP89GAGTpbAghYGUIgCytLKBwZxABkKVBaHABCHgEQJY8HjgDAiBLyIFnQQBk6VkiDT/PRgBk6WwIIWBlCIAsrSygcGcQAZClQWhwAQh4BECWPB44AwIgS8iBZ0EAZOlZIg0/z0YAZOlsCCFgZQiALK0soHBnEIFFkKUf/vCH6a/+6q/Sf/3Xf+EfMLhbDvzFX/xF+tM//dO76Uf+Y/4/Wg78zd/8TfrDP/xDzAnU5dXnwJdffpl+93d/d5BMnXvhO+cKyOO///3vp1/5lV9Jf/3Xf41/wOBuOfDLv/zL6Rd/8Rfvph/5j/n/aDnwG7/xG+nnfu7nMCdQl1efA3/yJ39CuX4JTtOTcRGyhMcfPWjRdmsEkIe3Rhz6Hh0BPIZ79AjBvkshsIjHcFikLhVuyDkHAeThOehh7BoRAFlaY1ThUw8BkKUeKmgDAh0EQJY6oKDpqREAWXrq8D+V8yBLTxVuOHsOAiBL56CHsWtEAGRpjVGFTz0EQJZ6qKANCHQQAFnqgIKmp0YAZOmpw/9UzoMsPUy4P9L+ZZM2r4eHsQiGeARAljwej3T28bZNm80uDc+e5c2vw+smbV726eORgA62gCwFQK55+r5Lm8027T9dU0lK03m3vLl0CcTWR5YooTZps5F/nFzv+6sn2ekBOaSd2DuLLHGyypjNJm3fPlL6tE+7/HmB/z7edg+M1wUcPEHEUWSpycOykB9exxb0Y4z6SPvXx15Ij/HmGn1rDh87v65hzTEyzfy+MlmqGB1jX+17FFn6tE9bU7Nk4T/XhmrNeo/KzUBe065Jlubk3flz6S7xft+l3ft5+bEqskSMeLMJoEgCXDPJzgtCGc12TpElWYRDP51Mof00y/KEeHS8TvPsnFHzyNJQvkmRuRCuOQ+uvJCeg9X9x8Ycnjm/7m+4WjB9h69dTzyIGB0vZi5ZGq/NsWYfb8dTjKDaf6H6MQLYdN6dM5fOz7kR0wcuFXtBlhieQhaGEukyYA1E4kLNMxJQ7syGCFGeTEPXjrByHMsjBK2s6xyyVBaFsTwcunYMWJwrIEuDoLU5PGN+DUq7z4XpRes8u1qMjpc3hywVPcOEKPt57kJ2vOULHLECsnSJnDs6coTb+Tm2jp2lKRKR0e1sw5WFjR/XWZLB8vIElonebn9y8eVtZXoMJlHUpJbdBH70wkGTR4RuTJou5uMLcVb+kfZvh47NYod/J0r9z4su46Ntsl1uFuSKRWc7WH3mZ940vvXb+5zo0WHdmrdEouIhesvY6ks+v9xjLQne8OckWZqVh/lxsMkdwdfkRl04er7WtjaPwjWb08m+i2D6cZ8adxuDgkW95vMnP/bNsdu9iz9lrMSL3iE68tFwHSu6jK1m11htsvYzlnrN5XDNp1wLWuyG4x6vkHzSZWyzdpDeFkfnW3fn1suresQCwbnULDeXdP6JjHbuZZ9lTB+jiXiLGeZzmiyxPZLnZqweftqnvXlEMoqT5lynNsv8y/jb3NcxFr8QHzt2cPyETpOf1YfjH7trbDJmdt3SGFs/Wvk6nvKwXq82ie+SKx6vNu98nd6+HU56v9bbVd/HU30yL19+pPOzvodofLax1STqH1SfeZ237zWGmMvc6EtKaR1kiUGectaCkAOk/Rk0OpeAUaJJHw6UBqmc66LGYyK52r7s0oGu7dJBJ2yxogRRkja3RR3W2nwsiV2TP/Zw56R3RH62R/wJtpXFxI7lhVb6y8LLBT8mZMGl2Lt92WrhanwmvdWfMpnyufiaJ9Q27Xhy5vhkGYJ7kVfHO/+vcDJFlgQHzasJG7RISL8QhzFf+2NNzFhWWTRMobEFlHNk+yJ3XdzPLGxz5knO8/17Jk5Z/yHtdDznwLHv0cmcEVwk31RuvnBIe5JrfLPXh/LfLITH54/RdQKOdgEvuW7ixTkvua2ETn0quuP1fC55l2/ojqo5DUZlnmv+cg7puYmHHE6SJdLhF2MZ2/skXAbqjGLSq80v2Xd+h491Elain8YI3hJHqR0hTwfHD6wHAziddCOXZYn/LDfGvN64B7t5Danxin6WTYM6PkeA+4jO3lwjOwQ7k29mTC+W3TbCVmSJfaXOZ78l/iWnpZ9IOqTdKTojjlkc2SHxl3OJr+jzn6sgS1IsNKmMj3JN7iTpPY8Mnkws7ktBkrYOuO56BtoFLSScnWxiS0i4cldukyHIkHH6yQRCbNT2gQOXlLlPkJ+vW1ndOxiWHW2nZrZHcJjSl8cEORlTFzOHO9trbeSJXItBLu4m4dnca33MJUvOpxFjXE4pPhWTfH3I1ziWziUWrDMWnDim7gxVI2mMYJ7jIcfcxcngeFkbi0wTkyN3loqaklsWx+hLLnb2urMrC5mTj02fisPYUaPL5W0Z2eDY7CT5+UMyXfxC/mdbe9eljXypuUNWkF2mxsTz6H++PhbvDihzyZLLkY6crr3U6HHq5WwTj0g8O/HxcmK+hfPO+KjTxTvbncdIbIb87bXnmNgY2DyP8erVdLtzInaYHcU588L7VvLQxy/EpOfHUFvjA9+IR7sb4ldImp3zQyqa9iZ+PZ+G7KjSVkWWfECrk7Iro9cpYLItZz+5yDfgMpCcxKVw23F8LEneSQhnTf6TYHenk69ycRycYJygosMK7B03NkT5LC/bEWXGsfGc9dGkkiRv+kR9kSzxdb5LVDKrE7szPuslPQU/jWfP/yu03ZosjfnaK2h+MRW8K+HyY+p1W4Bc0TdY2/jo1nhnnmgeU1wNaToyHmSrzoV8R7mjvxiVmEeS3Pg2Jx+bPvOMbHR1cGhxNKSF1ZAcmj8l18U3scLquUrNif5PxVsMM58XJUvRnganfs5anMqQabLTrAmsy+Ks86IT30Zn6JPl6HiD1/ThEXU5rBnF9jjnuI5KjW8wbuus9y1gSQ60Y6b94h6Nfr+2Wjnen6wz+mZ7jxyH2AzFXurtUNxWQZbkLqFZ9BW/EnAtRjlgkjzaxxw04PqAUhC1kJtxcthJiHyJklCea5MOW0CnEpCvN3eoojR8Njb05YtNeTHUJAljS9JaW4suN6nCGF00LU7O52KP6gzmd8drH1NQhKzptesdTJElmWwNaRkwyeGX+3TyTiZ2ISu1WPixjIfFuiPPj+nro1jL3MgxleOeD117S8eSM2eQWson9pe/9qPa327H12ts6Jx8bPr0nGzbGl0dHCyO0/Mn1CdWafWQjBhfa9qALyRD5rabf3LjYeZ1ljEWb6uPjyfJEmMzR+40Tv2ctTgVswqeWls68ZF5JWtC0S03FtPjW51c3ylG53+th8RtrC7HGlnG1BpRsAh1v8mTcF3WKcmDLnbtmE5q9Jsa/X5t9YNMHE7aoWZp0Qc+l9irzo5tei2t5Z0lCbDuSlgX83EoRgSWKRLc/eNtX77ULoIr8iWBCNSYlCkd3uwzcy+/TEYzprFhRgKS3rHn/1mGLDDxC8yCfLu92/XP2D+QXDQ5pYA3iRb0ZYyDz268hiy8iyLy+brfUQhxVRnXOZgkS3KnN0Zo33f6aI38l5zKJoe8G/M1jqXzSBx7eI/oyyZQnkqfMF5QHZsn2Qf7XV9N3ouQyU8plGbhkRzL5Mm8EJxFRTwKcTU5LLGx+STyjvySv0ZXiFu2p8VRFuLqOMmRxTV/Ia3gzl2cHrLV1A/pc07Nif5PxbuarkeTZEliI4RNR5qDrDfjwDjGRazi1M6RLMXhRGIld1hHJz6uFkUcZjzGa3Ua8vnu54DxdPrwmLocc5r8MDe9pK3UYcW08bWt0963gqW/AWzHTDvGPRr9vfhVaWLL4Zzv/Wviz/aH+VZqRjvHxJp17CyRNwxA3v63BZGutYsqBcEtLuZutQE3BrQDtl0kOglRFo1avON5vEuQAMXPMq4trIUQVvlSeOTuSscJPmRjTQy6LrgZ+2VhLHhF+ebcjCk2dyZUxJXPdSLTIiNfhtkZL4VR7ORiIT5GrC59Pk2WskYuLp3FwWEsC6rmoMlfHkuYD/gqReQjY/BWFxqb+358zOH+wlPypOZFiXs9J//EphjP7D61hbyIRWlmYIqP+QV/+aJVwcjIZ1kVD24w+VgHDjR4AAAgAElEQVRyuJNPps9Mk6hbo6uDQx9HY3cPJ3uzxzJpR5HwY/stlufWHOO/n+cD8e6ANIcsaW2z/omsbIPxqeTbCE4drJt4dG+O/bpAYySPCQdDMuL5LJ3ZoeH8FHcnP0l3xd/VDLpmsBF94oeca00RAlflTa4LUmNNTEout/hQbqruSc9KB+ODyzmjz0mSeTB03XUeOLHxky+n5hjXtafErp63slZEltg5ATe+C9MJapmY8v4QJxSDWB575ASRCRD6aWJyOwdTEquMt4ldF9F8bfu602+z3b37a3bBa0MmC5LYI59mQvAg61/z5550B2P12vG13SaPlafvreiiL3Zkn+t4wiFj0+Daj1fRF8ab2NFui5VlrnWxumDjPLJUFHqsCjYWS+5Vv7k970bRX5TVojTqq2JgcizkftUXcrgTj9zX21zzoduu+otvSlhpAec/LaY5aOw7Nhako9qRh9P8coWz4xvpqTm0ffs/BueyaPp5WjEfN7GjK+BwNI5GobPpZZ/2zc+ddPQLJlrvLN4Vg7bmZMX1es0VJtUqz+NvzKXDeWSpjHL+ifzO/O3mWxYRsO7W5t4ckMXytX5lhCVoleRwDeP34wizf/nC/Bn72HpgfHT5Wdpn/3+gLnvsBmosKenniNVv8fXrwvBYO2bzuj/pqwOKDTbn/rvIkVzo4lZssvlpfZl3bPyy+dbk07i09ZGlcX9xFQicjMAxZOlkJRgIBBaEwDFk6W5uCVkKj26vYo/d7buKgucTepefR+nADLLUAQVNQKCHAMhSDxW0PTMCIEs++o+ysHurlnxm3lm8sxsgS3cOANQvBwGQpeXECpbeBgGQJYuz/UJW247jkxEwfxBzsowLDQRZuhCQELN+BECW1h9jeHgcAg9Plo58L+U473Nv8z6MfbH6eEEYIQjY987sO0Zy/U6fIEt3Ah5ql4cAyNLyYgaLr4vAw5Ol67oP6U+EAMjSEwUbrp6HAMjSefhh9PoQAFlaX0zhUR8BkKU+LmgFAg0CIEsNJGh4cgRAlp48AZ7IfZClJwo2XD0PAZCl8/DD6PUhALK0vpjCoz4CIEt9XNAKBBoEQJYaSNDw5AiALD15AjyR+yBLTxRsuHoeAiBL5+GH0etDAGRpfTGFR30EQJb6uKAVCDQIgCw1kKy/gf70vP0JkfN+fmEhsM345uvrkyX+0/wH+hPy06N3vi/lZ0/Gf4LmdPuuOfJ838eso59j6f5cytio466BLB2HF3o/MQLLJUuP8y24S0qf+ntcliwtyYMzbDXfT6S/+9cRd12yVH9HbPL3Mju23b/Jzrul+3IOmuvwHWTpnBzA2KdCYLFkKS98V77rWm0iNDtLq/W0dQw7Sy0mx7Q08+66uyvHmHb7vsv3HWTp9lkDjQtFYJlkiYsUyNJpWQeylO63s5RDttRFtjfvlurLaVPHj1q+7yBLPqI4AwKDCEyTJVMQzFf2l/db+Npmkzadn0WgZ+50rXPdLNi1X3xvwcrfpKLTbH+zbH3XhmRmXeWftmfvVZ+M/4f0I7Vto4tnfUwVbRmEcNYF9TETvPed6ku602F9jY/I7DXBgdWqXympjtFY7NLBjCEpaoO4wvryOzVNzKWP1Rdsql0ucOR9d3lm7K5xi9il5K6979N2U+PdM3DuY7iK9ya5R2oG39rH5pPBl/p28lUIleaoGT/T76o72JedNnHdbFrMWlxk3sT5NccXnysOq8TX7I2P4ic6je+tYdRCvvLckvkvelz8P+XuItfiUv2Q/lo/TIxc/kmM8jwxfXQcWTaSv8aOPObwav2s9hSXzbmJndcldY5jZDEtQpr/gyw1kKABCPQRGCdLpqjkos2TrxSTbdq+SJHlfvrCapnYdSJLwSjFQIqRFLVyl19kxDG6A8DFSM61OIpbZgHJTWLj/pMc5wKSbRaysEsHHlN1FmG+aImCMz6zHsHG2mkKbF2wPFayCyF+S1HO5/Nw5MVI9GuB5tgZG4qOsZjXYu7xt2MkJ87Aywzt6gmLU86jEkOzoLAMwkgXDcH2fLKU7dK8MXk0LybVDr+gT+B7hN+Em8Tc2Eew0HnQ1SHYJgx66OORm+f50sPKjXW1pTNX1YJ4YPTnGiU+c16rXjq3ucnjqL/J35dt2r0d0v6F40vjBCse08kn0VviL/0jEWQ9bGPuK/PajzP2RPuaOlx11RvCghHFism24hDgA1kKgOAUCAwhME6W8ihbVFhKU3jCguwKDI+JBbuREfTk61L4SIS/3hRtkm+KYTwnfe0iSUVKix/fcTu9bP85H1m31dHdWTIKGCsqpBM4xALZxIv8NgU1EEnSavVRg8eamkiO4FuKuS3ADY7GnXMO3aIvuxASn8busDjFHMiGkB9tHlgbJ3eWslwbT7FL2hxWWXLEM56LXYJvmE8i/wy/LY75WBZp8ruDo8XDHjfzrvEt+DKFlfgm2GVlM2JkbcrHrV2hbW5MrB3sm83zYpvMp/PimG22sv1NWpQdzwWnkDPW/l7+B+BAlgIgOAUCQwhcgyz5uyTRzJNdJvNE8Soy6pa/7EIJ6egVR9FE1+iOqhaSllRw77BQZL1uIRGhZ32aO0XxX+QF/aW5kpEpHFq/fFGl8VFnxL6xwcsgm9yYct0Wer+IiHMX/GQbKQ/mkgayWRY2tqXxtbVxkiyR3E5uyu6MwyrLj3jG83bhU6su5bcKZN2846DzSnfntGP3oJ13E75MYdUjOg1+XVNcY2uX7Lxy/BuZ0e54nsWXeThcDzpjGj1sZi+OBhs3l2hIlB3P25xp5/qU/SmBLLk0wgkQGEbgGmSpkJWwSMUFoykqvhjQxJdFsWN+rzgWvXzXTMVpBlmSYk267J9Fd5Se2ST25QVKC3B38Q5kaQSHKbLUw6kZ09jgY0Fux3jReY1xV8+ZeNFwWWSY8JEewaOx2+8mFKJZbbTyFP+OjbPIUiSgVk7EKuZ+c94ufPpO0aX8VvtKbMf8166dgzbOE7mSsRjDSuaf7dPg1zEkNLV2XYAsdfLLq53wPXcey18SVuZ6Ia02V6PseN7JmUjuZuAIsuQjijMgMIjANchSWYwNISDtZbLrHVQzkUMxoOu2eBQXDm/79NEpsM3CSEVqHllS8vC+T7u3LP3C/9nHbtH2XkG2tk/goLbTi6vZbo9jwcXgkLtE7BsbvAxCI44RPbpD0cbqfBQraRRZx5Clbh42vork+jlJlmx86rD08bZPh3w+hJWQPMFOz+OYM/0e8FEe8zgM1f5D2s/I/ZaUTOTKFFZxPnTxUyMHD1q7wqPMU2LSixPbV8jmhO9MXrTmia8cd4lHcSrGPMqO5zFnipQy3+uu5xQpBlkaTClcAAIegYuSJb075IktjyWySipWZkGdW7xUZrlLEzJTi+NH2r8d3AvdWV1DEhp9FgexN5AK2+Wc4+A72SYLJS9s9v0sv5ixbQM4TC/MfOeq48XX8hJtfgFe7n5rYeU+YmP2PeCXbaz9zwFnbCzbrnaE8w4pqHmR5YqvNe/oOhO8IfsnyZIseja/88Iodgas1A65LnbpecQ3+MmLrubICX7TIyXRx+PtIv7xtkuUC2PhEL8pl8q8a32LvjBpGcLKyWTlDX4TRokM+1d95KOZzwEzRyoIl07Oax3xuV5JTmeMs308jr15XnMyyo7nLc40RyXG05BRD5ClmUChGxAYJ0s82WX34FVIib1z4UksfbqLcv1Luoy4K1RU4IKeGTLK4m0WfFlQ2I7t647+RDxvb3/x5Va/TqD+1ZmPPdmkev21s89oZ8n6WBdvJSqvu2pjY0cf49k48kJRtvq3af+WdfFCQsXdxtPaWf66yOspC4clHUVukWEX4LNxa3Jll3avbOv/9Q8VL3qsGTDSxdn7s3u70lcHsD6PVcbY69+8fJm+kLmSP7tzKs6RU/wewoOj4nLCv2g8GjfNl45vA75keT5fJP+DjS/79N9v03O1Zx/Jf9ml3YvNZd/T2rDlv3grBDTEKBAOH1MhTu2YXj/fZuL4sk//J39VgOJp/pIv1LLN63+k3YycqTWxYkBzs6knFReQpYoFjoDAKALjZGl06LoufrrSI7gplMId71T3R7muj5yCQfWuO1xY0OmcnaUFufMUphayVB7RP4XDPSc/7dP+vXMhvAZge4AsWTRwDARGEABZKuDMfQwxAuVpl5ZIlrLN4e5bnJd3yuR8iZ8gS8uLGshS3qWTHbsQv/f94CNWkKWAFU6BwBACIEsZmUPajWxVD2F3kfYFkqXyaMG8D8JA5Pb6zsVF0LmLEJClu8B+ltKnJ0tcR5rH4CM3NhlwkKWz0g6DnwmB5yVL9n2JgTuyayeCfV/Bfp3AtfVeQL5/F+M67ytdwMyTRIAsnQTbnQbZeezfjbyTQfdTy4TJvkM49bUNIEv3Cxc0LwyB5yVLCwsUzL0ZAiBLN4Maiu6MAMjSnQMA9ctBAGRpObGCpbdBAGTpNjhDy/0RAFm6fwxgwUIQAFlaSKBg5s0QAFm6GdRQdGcEQJbuHACoXw4CIEvLiRUsvQ0CIEu3wRla7o8AyNL9YwALFoIAyNJCAgUzb4YAyNLNoIaiOyMAsnTnAED9chAAWVpOrGDpbRAAWboNztByfwRAlu4fA1iwEARAlhYSKJh5MwRAlm4GNRTdGQGQpTsHAOqXg8AzkaWn/+K6gbR8NlzIX/mtrc6XkS6ZLC0tlkuzd2AKTTSX35FrvjDSjqLvXPNf9HoLbECWbBBwDARGEFguWfpI+9cn/y2okbjOu2S+0K9DGubJWFYv+jJN+akW/lLQ+K3jSyZLy4nG8+XeUGzqF7x6sjTU/5LtIEuXRBOyVo3AYslSXuieZIG/dgLe4g722j7Mk1/u8CM5imNBliIi1zt/ntybwLCzszQx4iKXQZYuAiOEPAMCyyRLfFcKsnSRFH2eBQtk6SIJc0Ehz5N7E6CBLA0DtMxFatgfXFkmAuN5WBYX+q0hfnTR3TI2E52KH70PEn5vzf1uUbvdXMdt0kYek2RIedzuXbbtf5T+Qd434U99F4DsKL9Tlm3WdgoNjzeya6Fu/bxLNMdwNL6VnRHBw/8e1phPFWOPv44xOlwMTBzK705NjDcY3xZHE8ecG8aOmrc1P4Z2mObuLFU8qy6vJ88BE6eN4FZz0fb3+ZpSsvHYmPnUzIlWbsXd6g9zYizfVMDI+NxnyEYdP34wlnsWm436b+wx8R3XInZmnGyOGEwlTq+HJHo1Hq52WQytLNOumHBcNF7eypo/u3QwsSi9ao4058YetVFEq25fF+Ry/MTOUkQE50BgAIFxspQHxUlrC0/SwiI/3lgWoFJEdCLT5JaCnlIpErVQ5XPfl8/NxN++7NL+fZ+2vOBokRW/QkEqBU90mqJGBdYUXEvsmoIlwq//KQV6GsdNsot8xWHcp+2LjON+ZleuxKMu+LIA+pj4eJXFy+h82abt66HE9phF7FLQhhwTkm0JU0olDyx+PfVzyNJgzmaBnLeKH50LfiYXDaGX+KtteYzGyMSMZdPNgJsTRq7iX8Y5mfyDzaJvNN947ns/JI/Yz56NPVAH2qZyz89jEXJIO/VR2oY/va8hDmS/we5lm3Zvh7R/sTVIxnRi26uPuWq+7dL+U+2fcdY4JK6B6oPoH6pXcp2JPmNe/Iq2iQyps+M/cg2yNJw3uAIEHALnkiUSRgW8TtJIsKggamGQ3SLunxc5LbjFNOovbUyCtGCz9a5PbusulsM25SF9Gb6osbrbfEzgKASgKbqC1UyfqMiOjQlyMk5WZ7SDcNQ7/9tAFbWQDTbHaMHapo3u5uQRZdFxvkRBKaVJsjSVs6p7k3ZvbX7H+VFMYEJEPuRjm7uy6Jo5Y4hWdcHK4DEOk851h0/vulmMHXmasLEaNXrUzMGQe4KVnf85f6di2Cht5lbAVEiPmRc93VluzPc4n6jPm/njE65hajPZYnGVm04b8xALsc/GM/jUYBlrYgNKSiBLHVDQBAR6CFyfLJVJb4uds4MmfH00Ine6uu0eCw0PbgqDEVqKWZY5VnxAlj5GsKx3rVy0w6NP2tl4KxLGYmHCcsXDuLCwKs6dmnsXIktTOWtxdTkoEPTtrTiGnQSDPS24A3NCFnfZTSsx7MwtIQRhse2Ol75iun5O2Kj9xg+qz7Vfzb3S5s8zdp5o1JEjR42vcoMlNwK9mBQfa/6wfI6/kp9Iwj/t0/7d2BLiRf5EXBv7oj3xPJI9JlxO7nS+gyyZOOEQCIwhcH2yNFBwxKhcJNwElwv8GQqNXO0VWWqT7W4aB7IUd4EyfrFY97CsC1Qp0nVhkAjUz974evUWR7xw27vurLbJnenFIw+b3Fmayll2+fC6TfnxpxJ/haKz8MmOBc2FbKfNXR1YDhq/5LqXSzGMmEjX/DmxQI/HdcJGq2fkuKej5p4MNHH7tE87JulyddZn42vMD48dyWSc+2TJx4f8YKw/3vbpYI0K8er5PBWLSGRJfOOTwSl3aK5bo8oxyFKLCVqAQBeB65Olzg5OtkSKHhUSX3jyZS04odCIE7HgNAW2kdsWwyijXVxF240+m+IWbO5gEX2I5z2fCCtDUJsxsnBz8afrzaJ7SPuH2VlqH41QxJocCIvJQFgnyVIjtwjSnGVCWghm0elvCEJcaXhpKwuzPTZGyo5FJw/YAnrXRnaWymLZ7sIc5BHRVL4117MW+X6zCRuN2WOHU7knY6XfQd4FkgtzP3u+UJvgMxwTHzshITKODVD5nfepQrxKrQo1T8eLQ9GeeC52eDlFdt1NHLvJyZpAlgRvfAKBCQSmyVIkO1z86dEAT9SpiU7XzUvctJjwC5CyMLt3XkzBCYVG3JHi+ZGL95v8BUstHG1BaotNlcFSB3SJzqt/TuHI2/16p8u40qNLJj9zfCrY1GJPY+xOBsmt14Vwqd5e/Az5ujpOPQUcOyUKkleW5HEf60dP1CRZEtkDOZvxdToa2zgX7fiIOcfWLnaHV47JYJ7GHOdzGxu5ScmOk446Z9rdiw7Ra8bLY6yCpNrYA7bTNpl7MkYwtL7ItTmfjGeNS8Emntv8IbGT40Q5y8sviNtHcPlyE6+IK8fJ1tTmHSXuY/M5xi+f2+ti2sgnyNIIOLgEBCwCc8iSTPbyPpH/M1d/J5MLryVT5s9XuejIO0m1SBVrStGUOyJeFMIYV4T0mhR7r3f7uktbftdj9+6vbV7/d7kDl3dBcgFWecWGaJ/F7BrHc3F0/eSvz2gBsQWXce/41MWZd0IkNs2ddHZYFivGrODT0XkNcObK7NpYBjvc3KLUCp9DlvKoLpaKeT8vC7ay8O3STnLQklUxSWWVnKT877VR/5jj8iCoHyOPx8i8ZYI+mBuD9ogT05/OlkEyVPw4eV6Sndu0e80v/XOdUWIxhB3bPtNH8iPaPzTW5eo27d925h3LaM9/mDwpf7XqMJNXD4Iu9TPaZEICsmTAwCEQGENgFlkaE4BrQGBlCMwlS6e7LWRJCM3pkp5ppP45/ilOM1miP+c/ZfwSxshj2mjr+67d7eI+IEsRLJwDgQEEQJYGgEHz0yIAsvSIoZd3pU60bfVkKRNw8+jcwvS+L9/5ZNv4GGSpAwqagEAPAZClHipoe2YEQJYeMPrvO/8e2LEmrp0s8WO95jFlbtfHjS1oIEstJmgBAl0EQJa6sKDxiRG4LlmK76PgUdxgqtn3ekYW/MHxfMG/3yPvkk2NWuB1i5e8lzXyvlL2EGRpgXGGyfdBAGTpPrhD6+MicF2y9Lh+w7LnQwBk6fliDo9PRABk6UTgMGy1CIAsrTa0cCwgALIUAMEpEBhCAGRpCBm0PysCIEvPGvnn8xtk6fliDo9PRABk6UTgMGy1CIAsrTa0cCwgALIUAMEpEBhCAGRpCBm0PysCIEvPGvnn8xtk6fliDo9PRABk6UTgMGy1CIAsrTa0cCwgALIUAMEpEBhC4DnJUvnz7eY7SYZAetb2e343zQV008+RTPzpdC+0D0uW+E/D3c/+9By4RVsnPqfifQtzj9GxFj/a3/prUQBZajFBCxDoIjCPLJkftu1KeezGs34m4YFc898XM/BtvWJv+M6VYxfYqutG30tjfpLh5roFM/58SLJE5MT8Rlyw+Zan8+Nz5rdu39Ip0mV+R+8Ekj1s7j3qp/k+r5HvqAJZGo4argABh8AcskTFcWTCOYEPd5KLxo0W/Jv4Xovg2M6Y/sjrOXHr7B5cx8WySDlCdzPdrUcPSZaymQ++s9QgmWN4UdLRaLhKw6V3lu5XP6d/gxBk6SopBKFrRGCaLPHifM6ie0fgyl3wmshSuVvfv+ZdhoHdpbyovuzS7qX8QvnJ8N+KsJCejf+xz1vp7oADstQBJTZNxocX6qcnS/esnyBLMW1xDgRORmCULIVHOZsNL2h6h8uTUXZuYn9LsHRMSkPb+LV9lw6f9mn39qF+6U4JfY1/S37cddbr2vI4KdzGFlWQUvL9PRGhazS+7uxsrH+ptucdn8OrH2/1nHfMjzaYYPR2l7Ktu/deoZR4lcc5PbJVMdilQ2dBrNfPJGIMQo15sEl1W5sjpvbaJvx2WPS/novOHnbZrLlkyWLRlRXmQ6+PldGLh9i6yXPsfZ+2Mgcnk6jmI439dEi7gfx1Oj6JYI9tY5vGJ/SnOWF1l7hu/9e/k+25hmgdSbYWxNiK3PJJOGX7Oe9Jjp1/OqfF7lojqn9Zd22vGoy9r4dSB47CKqVk7ZKbmBB/63fVbY/E9jAXqEvNX9lhzPKanDI6t2+HtJ+4YcLOksUfx0BgBIFRskTjzCTN56Yo5N2LUsBzASoFRycv96NHK2ZMneBBbiYbVKCyEi+rFDsppjxO+zLJkcLJxcLbYQqksaU+9ikydUxiHVT05DgUMJJT5WYbRZ63dwT8ky7JeyBil+AiwjJ2uY2vCy5CBhU3XiDidT3n62ZxyQuWYhRxFvWnfLIswY9EaJwEY58T8vKqjuH+5VxsF0Jnzl+2aceLiPoSbJ5DlnTxprFGvuBF9pjYsH1VZ4lPPLekhPJI4yXxDjtwwfZyWuxRbITIR1kaa5nXgjXPKe3P/g32N/6bPh6j+hix+szWjt5YVL8dQbJ48jHVFleTQm2QOSAxMrFTrESW+t7Oo1IDK1blXGLN/cfGd2M2hrnB19z0NXWG5lG1q1yXOdBXCrLUxwWtQKBB4GiylCV0F8p+gdYi1FkQXTGl61Jwig7ZWfKLBt+NSjEKBSKbR3KlaFPxqwWEAIi2UB+ju+Ojs9VcF//ydbsIXH1nKdvAhd3qzViV87bIO1y6OHkMSrFl7DJmgjmBGIs7N57yEeOhvtm4BX+y7xJj0hmuN2QxLmLDhk6TpZLrEXfduWTd9nrWRvjLrsNUznXyWuItOTfkQYyz6tb4RawklyreUUY8bwhDg3c/P+Jcplri4tj3ivSr/aWPa+Mccpj3MBTiyDobv8QP1TWFVbnu9LrYdsb3XfR1S/JFsenIIT0Ss44dwdeeWpClHipoAwIdBM4hS0NFuyyyfrtdCJYd44qdFCnapveLdjXb3GFJMXOFqfbUI1dQuDUszsXeqJOLE+vxtlbCqP6QnuKzK5xqyKUOZGcpy2MbZQGm4ih+dIqrmMD+2zv1ZhHLfS12xj8ax49T7E6IiD/6M8SDxlvd1OD9sTnm7JG8EGzGFpsBQ6fJUrHFxZnsFexbMlV9KjtDkznn5LGhPZwaHzq2ycI7iE2ItZXZyZXqiyzUucXHJ7c0cyY3Bh8yDjqHSHD/fz1ZDsMgl6Q0OVRkkyyz++ri2Njd+uXmBROSYR864/su1tYu5h05zr94s5rFdcZULXQEshQAwSkQGELgkmRJFrBSfMLk7RSz4QIYSYeQpLIYkR4u/K5g9px0BYU7BFtq8bQCfKFpbA0yykixM9svC6eVeYljS5ZkkSu7WhmLWvi9/aRZirAlgPYOWxdTttNil4/j9Uu4k2X0sLS6SY/3h+KuRKhniO8/Z+EQKdNkSXCvMXb5wf7UWLBk49NUznXzuoeTGK2fJQejbmdfbxE1tpGokVyh67F/R6bXqQaaHZSQy7VLc9ST5TDqYFOuW0JXxFZZF8Cqo9cbH/PQX3Vno5h35NgYdO3ojHEKUwJZCoDgFAgMIXAxsmQnLikrhUjvuDqTuRYt/9gtD6+FsJ3wdE0W7o7cPF4fgzV2dRZn6hPfBSl6ZdFxtmYFQa/qM77LWGq62P/iAsP4NDtyEbd2YSCfmHB0FxaLHfnbLjwfb/t0ONe3gCWJs7qpIfhD1ytZERMOb/tU/iwg9O8s5jImfs4iSyKvu8PGuiVHRYG1mY5Hcq53vYeTyNbP6He54PO304f0SXzHc4Ukuv65pZXpdaqBdcfy3f8Rh+nRHPZk2fyN85EEMF5xHtZx/Th5Xa1ffmepcz0r1+8NG7jeeph24YXtamfu3JHjYlBiNv5oulEKstRCghYg0EfgOLJ0SPv8F2q9oh2LezzvjHFFia5LseY7d1psuEjowjNw7nZyzJfAmYKiC3tjC8u0MmhcXYydrRnKIKNX2JQo9qE/sTXbWu0iIYz1eKGMxXTgPOJMZKDEhXy0GOVHEKO7OzNdtFi+79M+/0WWiVuRwjFSfTEPIuEe6K/jh22bQ5YyFqPx5ZjUhbrYE8/dDqTLObbf4F3wD4+3O24U4hvfoTN/Ddo8auJc0FgP5IbFbjI+9jHcR9q/WUotvpn53vHDNhXfTf9YL2wOmYGT42KcWA492uW5QDJ0XkSs5MbO50O9ebJ5yPXT2FcPpzC3cnhUiIHEXfOSfbOP26u+coSdpYgIzoHAAALTZKkWAyrsdgK6P2OWAliK+eZ1R3dKeaJu/+UL+nNhebdE/6zd3pXTVwXwn7pq0Wajnc5t2r1uWZ6QhqDbLDDyl3VkRyZ6TpYtcEGGFsdOe5CRF0AqjrZdFxYZL7YOBGJGsxRDwdEvvHUhif1y/1xAffv/3963rErTHDvKSKYAACAASURBVNdqICGBkY0uL6CJRgYPeiKsF9AjaGYhMBqY3TMhI89l8KRorLEewXS/wJmcB9i0p+ZwOMMP9kwPkIeMjMiMiMy6dHd1d13WD99ft8y4rIiMXJVVu6sLHf1Wk5pE9UQR/2Lo0lV/aq0nbDPRT7C/v4lglP5yx9oZ/dITlLJX7rYlj3LMXPvTf+VcJOxybNoWTSVLEge9LTERwsfjwYwV0av8jj5k++W69aO7TP/pAIsh26Dlm1jXPxNh+9tc+Z+LjL8otxEfwTePh5Kb4hnJ1/bIhZ5tIiz822Ec7yYpaOA8lrPG149zoN8w07aNYBVNNjKcDeXacA0o7SKuGvM/hz9Jjsft6dqrz/h6OuOnA3ryCaeBwM0ITCFLNwtFByCwYgSmkKW8Sun8LCsK7sKbDxPZkEeUbzYmqne/ozZm0eLsHzN4JdexsrSSQMHM9yMAsvT+GMCCZSEwSpbiSoOsnjjTyztT7sKbD5dGNm79XuPS7H9zOGdTD7I0G5QQtHUEQJa2HmH4dysCY2QpPS5pP1rKj4ZuVfrk9ssiG/oHaKc5viz7p9m8hlYgS2uIEmxcBAIgS4sIA4xYEAJjZCmaat8vSe8EmfeVFuPP2HtRrzJU2zH87o61SPdrvddlW+PoNgRAlm7DC613jADI0o6DD9ebCEwhS82OOAkEVoYAyNLKAgZz34cAyNL7sIfmZSIAsrTMuMCq+REAWZofU0jcKAIgSxsNLNy6GwGQpbuhQ8eVIQCytLKAwdz3IQCy9D7soXmZCIAsLTMusGp+BECW5scUEjeKAMjSRgMLt+5GAGTpbujQcWUIgCytLGAw930IgCy9D3toXiYCIEvLjAusmh8BkKX5MYXEjSIAsrTRwMKtuxEAWbobOnRcGQIgSysLGMx9HwLLJUv8+yo9v5T8PsQ2rpm/g9X/44rPjcsSfnxwmWQpfSdumb/ltPExsWH3QJY2HFy4Ni8CyyRL6gOiKyBLt366Yd4Izigtf/hUf2BYy19XXLTlt+wvkyzd4gHaAoFpCIAsTcMJrYBAWCZZioF57grGfKGPBKL+9MV88l8s6c0rSy/2tqkOZKkJC05uEAGQpQ0GFS49BwGQpcdw7ftO2GNS39gbZCmALL0x/6D6pQiALL0UbihbMwLjZKms8OjvYcm7E+WcrK40HtXkCZhl6ZUY9ejncNDfjCp6g2ojeglzlns4pG9zHcwju2JH7HM9adkh0LsxzX6NaCr9UZfYYGREWR/n8NXoXt7DKTZZW2MndS3KMr4ULARvsiHjqr9VxnHQ2BhZzncdi2iGktlwxaz4iS0ak9RH4sxxMXEtftZxKX6K7oxxxPazC/3vUkmPx7dTyFLxvQvXb+fQXVTkNfYO35wLklP/9seQ81e1NX5Hl1pxGdATu2QZVT4NxeBx/CBhPQiALK0nVrD0zQgMk6VSVPWEKBNFnrio8AtZig6pSU8mhUgyPrpw/jyHo0wKdE1IDPfJhENNuDzZJ73SPtkmxEUIldgU2+p9TcTiJJL78YSTj3083CSVbFC+Vr5rAcoHImZsu+9DOpRMmQTJbxWDj2PoLtdw/jiE43/+SU2y4o9geAxHwZHxb2Mh7RXJc/5qb9J+8Ukw8/mQCQF1YPtVDNu2KD+F3EVb9P6h712q2spHzoyTpWvoBF8muYJFIjWSo0JY4nHB7fBxJL8Ip+hfE/OvcD5xXDiGcQwKdqlPyZlEjKxea5PkSCLWIseOqUdQQ981IgCytMaowea3IDBMlqJJXORl0iIr3Tk/+fs+PBnk4q1kmHMkRwq+0xH7GD1pcpWiLyszcmwIEd1ls9xoS57oyJB0B+7OpStyR18mJT9JWZtyL7NjyYPILBNfnjRVL0vKGAtvY2OSrXTxZC64kFwlxx+3J25lmI8tXbKx8v7o47ivY25X/KwcwlbZGo/FD23R3PujZIlwlzxN8ZSVpeifsdHFiLAwK23R+uS3xiXm87mxWiWyNabkP+nhPI37GjdZZeJzwzGYG03IWzICIEtLjg5sWxQC95ElvmOWgmxITHTPTXpuwkgAeLLjYXEy4uVKT+qTiEV65COTSWqbzplJiGTI4yG9VZOfN4WP00QX+yjy1GOTFkH9BKt4weDR8FO1SbYPt8k+u0kx2dCHs1rJ6bVNeyH7bVsqH5UP9JhJyLbC38SFxHvZPTaKKU/ajpIlyW+9Wqjtp/M6twpBbOIU+xIuJQe/Ludw1f41cqbGjzsojMsjvmgPy1fXe2Vo3djfLAIgS5sNLRybG4G3kSVT/Fte+YlTJpRCVIQkpYLfIgVqstUThSYHLdXunJAkIiVkd7Ghj8BpEdUEaXxnG4VMSEfTpoFFbGfapI6VLreyJCtwMnHOs7LkyDPbJe9wkU3Gv0ZcyPy2n4K/eQwlOD1hO06WklLJv2hXysFkvyav3rw6PtJC5+9XOF8MVXKxTm17iU4kQ6M53hcDsQfbPSAAsrSHKMPHWRC4jyylSSEXa7pTVQRC7rxlgmxM6tXqk3iTH7U0Jk6tR+9TXz3ZxMm73KULQSB7yRZta1Jc3cmzPWlCVLJ8/8oOcaRsqwnS4ZHIgNIRuxo9DSxyG/vYp9JlyFItZx6ypPOhnsjJJs6F3rgQXM6+nAsJy9q3dH7u/4+SJfdCt84R7WuxqzxSG/IhX3N+k5xWznhCJHaZ3ClWSI4Px6C0x972EQBZ2n6M4eFMCEwmS7IyE/USQVCTuyvk+o6b/qrLXRfTpZ2+Ey+F3E2cWS8THbJBEQV3bCetJEv00DXtTyQUQuzEON4mGwu58sd6ZUkmIyeififK48HH+i/gWvbr66TDyxl4DKdXPsqqA2OsJ92GTOsP91H4ESZZBq9YZDztccsviUtFoF2ekZ4s11o159EUspT/SCEqjnaK/4xfvpGID6UvXTh/SxaS/9LWG01948v5amxJGx8XzvdBPSpGdMOQCav+a0s7NkQdtvtAAGRpH3GGlzMgMJksnbrQ5XcxCnkQExIBSe9pHPkvtmhy56Iu706UiTH1TOSjvN+RrvMEK/pO11C3k0mb+yr74gRCpEvrdpOstlceSYkvdmttOZ66cGS7vK164mLv6C/XxHeaULVN+fGNrCQVHIosqz8TJien+3R4xImSJ1jRTzJNv2PoTkf+q7ouXM01RUQtIHRk8HPY2lh1oTuxXx/n8L/jip/Wk/s2/KQVFn2+kAjR4fOpYerNp6aQJfmrxIStGw8t3GW1VXK6SZhSDEvs2XSNl/6LOHfe9zMxUsRpbGzcDBg6rBYBkKXVhg6GvxqB6WTJvUPxakOhDwi8CIFRsvQiO6AGCDwbAZClZyMM+ZtBAGRpM6GEIzMhALI0E5AQs3gEQJYWHyIYuBQEQJaWEgnYsRQEQJaWEgnY8WwEQJaejTDkbwaBYbKk3xfRL4Vuxn04AgQqBECWKkhwYqMIgCxtNLBwa34EhsnS/PogEQgsHQGQpaVHCPbNhQDI0lxIQs7mEQBZ2nyI4eCNCIAs3QgYmq8WAZCl1YYOhr8aAZClVyMOfUtHAGRp6RGCfXMhALI0F5KQs3kEQJY2H2I4eCMCIEs3Aobmq0UAZGm1oYPhr0YAZOnViEPf0hEAWVp6hGDfXAiALM2FJORsHgGQpc2HGA7eiADI0o2AoflqEQBZWm3oYPirEQBZejXi0Ld0BECWlh4h2DcXAiBLcyEJOZtHAGRp8yGGgzciALJ0I2BovloEQJZWGzoY/moEQJZejTj0LR0BkKWlRwj2zYUAyNJcSELO5hEAWdp8iOHgjQiALN0IGJqvFgGQpdWGDoa/GgGQpVcjDn1LRwBkaekRgn1zIQCyNBeSkLN5BECWNh9iOHgjAiBLNwKG5qtFYBVk6V//9V/DP//zP4doLP4Bg3flwO9+97vw61//GjmIcYgc4Bz4wx/+EH71q18BD4yJzedAvDH4h3/4h6eRve/MIfkf//Efw9/93d+FX/7yl/gHDN6WAz/84Q/DD37wg7fpR/5j/C8tB37605+G733vexgTqMubz4G///u/D9/97nfnoDRNGbOQJTz+aGKLky9GAHn4YsChbvEI4DHc4kMEA2dCYBWP4TBJzRRtiHkIAeThQ/Ch8wYRAFnaYFDhUhMBkKUmLDgJBGoEQJZqTHBm3wiALO07/nvyHmRpT9GGrw8hALL0EHzovEEEQJY2GFS41EQAZKkJC04CgRoBkKUaE5zZNwIgS/uO/568B1m6I9pfl2M4HLpwHev77RyOh0PoPsca4voaEABZekeUvsL54xAOp9HR9g7jJup8sg+fXTgcjuH8baI5jWbX0yEcPs7hq3Ft6NTiydJaa/AMMR2K22zXRu18cu7P5si4nRslS+OOh/AVzqfbi8Pk2FASHcIBZGkyZEtveBNZUvGPOSDk+nqaQLInAfHk/J1kw7MbXUNH2K2ZLD3Bh88u34ClG7eYX4+RpXsjOUiWmKik/G/FkOu0xHhuH9QYnOeG9Rq6F5D2d8d0ai6M2/mE3J9q3E3tptm5TbKUB8nAxBTb3HEndVMM1npXc5OT+2k8jSzJBOAnLxmQ/vyd+L0if+80bd5uU2585tU4v7Q5fUiyzORP9W6mvLrR+UGylGVJ7h/C8dJYu/rs2udz/wd2ZqzBRA5eQJbI2zfG9Ca0R+2cM/dvsuzGxuN2bpIsxSXl7hSXpvsegTEwIEs3JtS+m08hS/Q4o/cOOebdHJPai/J3EeEeL2KLMHPQiBl9oMnJ1bXRCWvQuIcuTiZLH13o4uPU1thYBVliwgeyZPNlNPdmzH2reeajcTu3R5binQSRIHa+IkTlLkeWh5t3O/ExHb8rIcuN0s4/35fr9Kjl2zl0cvfk7mrSRJoeza37HYyZ83Ql4kbJEsd7MLaf53D+xrkVHz9IfvIkaAl+ydWYe+kRXjlX56+75gp7yVvVjtuU3KzJXLnmHqXk/BZ/6r4mtMrH5Lf0S2NCxlceT3ocRztVf2kr8nMfeqQzYod0om0Z50Hid5AVEG2fW6VWbSkODmsr65prSVGtZYu+crW1Z32MmLFNecLSMp29Us/4kZfFT2HgMBGdtn2xbjpZiq88SN452xpkqTfnomqDfR1rsZmI2ecM740afSlX88qeu9aHU0Fs4l6OqWCm4i0ijO4aB2l221bnUENnCKHEpgvXbKfSouw6Xlzu87XuU/Qou9X4zrnNYrPOWBPUY2idCyTTvFojOlLMqtgM2anckd3NkaUIqiRyGjQqGOK1BFwmKnU+7aoE/TiGjgN+vPxPKnp6kosFIMtJ/XJQcmKwgnjsi2qlGyeWisAYWZIineM/4ggVgJw7ZRLQ+av3dQFp91W5LoWA8s0WjSyHC93xQ8YMt1M2RT3ZH5ZJx6qwHT+6cKZJSenv851k2HYJNz2BfoXzRV7oVrbz2PHtCQs1rui4tYJR2aTGuRrTUjeOeRWQ22UdbpwzFhKrVMCLj5IXhUQnn3J737+yU53gGOS+8VKOheh09jFRyn2MPoUB+aeOTe1rPD4LIdxGlkqO55sEtj/nGNfmfKxzLral45IrKdblmLDO+VtyJ/uuoLxtl2XlHBDci26JQ7b9NgW2dY6pyOe4iG8jOFhh048IT9Eh5Fb5bMea5IrkncSnHJvczz4dQlUz4rWsl7GW4+ir2MD5IPG8nooua/vIGCM5pa+xsweujZGlGDxJLgmcuxtmICywLXRcwFQT09clbRzMzZUlkwxKGHZXg8BUsiQDecwxk0excVUIFFGhSaTktu9Lx1JQWHEqAKUg+D5eX+xmJptojxQslmlksL23TQ5pXJk+XEQzbnoMyYqI9o3as19kQ/ExmclFXPdh++sNj3PdVsvXfuc2SX62lyeVdNzwz086UX6WFRU0bKgNTWdcjtDJyl4nb1Sfay/2uNi3TLqZLEUhZK+qy3plaSTnYv4V3N2YaeUC6zJ9Wo6MnmtjZPJYbsL1HDQqt6dBFVPBLeX6IA49IqecpvGtctMck02lBkV5tsYkjCwmbixy/to2sZ8bw9r/uK9zMa8sJX0ltuqPXmIf5YcdYxPsbIC1KbIUA2eDIEuGNsARB0oCHYAKnASoBTw1sn25HS1vOz1S2OL7UyZwlTKcWAECryZLeVLJj4UKSM0c9DnmCpPt4yYaFm3IEhWstIQtj/zSlvNc8vvGn8YwOuLEfOL3Wdj+r0un/gy+MQ59IW2sIpGvkyatEfmMC8nz+ObJImGUirYnUlGA1ZEmmAaug/WIDWlhrvGgZrfqs+29vay5ubmLLCncqF5rsjSYc2wnP0rUOSly8qqpWNvCS67dtPUYpTj7+UbGbJnAb1JSGlcx1eN1BIci5f49xk0/YrbjlkUbO8dzv3WDFuRmohFXPabIFjdG9FjSmOvzOk8S6ZpgZwO5DZGl/gSKYPmkriaOChw/OEqDVl8dnKxLJ1zDhiIRe2tAYIwsSaGcSoyrPGoW9jSw04AvZNz25TZ+MnfybB9dfAv6piDGQuiKU2nZ7m+u9x2QXWVl6Pwpd6jRP3V3SP0b41AV6DTu3F3ppJshMW5YvrQi7BS+Mt7TWFfF12Ge+lsd1FfJEh2Tti35Co/79Fn7XkGWso74Rzgn9ddwgzmX7NSTosYsxaSMEbrWwkt3mrzvMGK5udaLnCoWcuHGbUtO9mUYhxs12easQ8a9zvuqfsSe2s5snxbZxs3GMI6fegxrKXGf9DOhMv3F5niN69XgGJtip1ceQtgOWYpBaxYgDpYr+s3AG4BckNU109c8MtBF304mUlxNkJVM7C4fgVGyJCsIQwNf3UWbPIruu0Fsf5MpTchSnH1fOvYrKSSvFCHfx+uLJlCeylhx/SVCX5dz+kFWZ69cH9+msRV9yT5mWddwlj+QIEGNcdgo0IKL6CZfm/VAWsh2RD43M/K0frquyJLcJRvdTgf1d5N6nAwuE373LeMk9rsJi07fqs+1lzw2Pih9avfelaUkIuFmbmZHcs7EIdvBOUO4Djymy+3v2enBSMaKiOyJrVyevK1yTOKc8mYQh8lKfENbY+JVrSfNYaWeUG9jJ8fT5I3DrZW/nG9+DMf6FG+kIiHT8ybZRLi7GystuycOaYxNsNNDsx2yFJ13QVTOClHRwTCA55dJVaeBglH6ygSndMcgyQDSwZPEG7BTa8f+8hAYJ0vRZh6IjZ+toDxUhSTlpUyaXFTUnZMuVHInLkWj5CC/DM25pm8YbP/Go2eXn9F6a5PczYmN7J/40Og/NWqk5+NYXtzM48NNdq1xaAq02KjGINmljgeNcsU8tnXyyWv9C9d0XdnpjhOG9XVaHSTsWKfUiajA3XT1mqwxp7+sbNnrfRrT19Ne4txrzB0veHtZ7E9Vmw3xVz8G2WhfHtuyH6ovjQE1prz66ccaI0vOiu2pTTmeLr1qyTlVZKW6IuNfbnTK9Th29ePrSuKEE55E9BznvBW84yPlNN5Gc1/nr7bIjaF4Kd9I0bVSg0iHGkcFg2ivjHu2Ldtqx9iondo23l//yhKDnB5TqALFDgoocj0TmdxPwNXocJLwICsTkE4OXvKjIsd/HkntWV6WX95n0AO3erau1WN/kQhMI0vJdBvrlANlUIt7Os+O/BdlJYepWOg80pNXPq/ylwuR5HrR18jb3L/YZm0uxal53vXPRVxcG9uSrcr22J5kFr2aeArR8ONZ9DZtHLNBEdt++Q3shMDl+tDlXxoXzI09p/PoTwfkujRqs7LndGVym2KYJiydU+WxhJBtyY2iz7U//Vf2RTAZMmlsZcng0LiBINlqtVV02X46J+QGVXz2r1hYf7rLDD8dwEaV3FP2PDoOxOHW1oxnN1Zie3Pd49ASOH6u+Bjx7UIXbxJingvpMDqP4XypP7VjYqdzfwyrvuu0sqTjKvinlaUrfX4s2SnjL3mqxor2gWHotbMHpvWTpR7HcBoIzI3ALWRpbt2QBwSWiMAYWVqizbAJCNyDAMjSPaihzy4RAFnaZdjh9AACIEsD4ODSphAAWdpUOOHMMxEAWXomupC9RgRAltYYNdh8DwIgS/eghj67RABkaZdhh9MDCIAsDYCDS5tCAGRpU+GEM89EAGTpmehC9hoRAFlaY9Rg8z0IgCzdgxr67BIBkKVdhh1ODyAAsjQADi5tCgGQpU2FE848EwGQpWeiC9lrRABkaY1Rg833IACydA9q6LNLBECWdhl2OD2AAMjSADi4tCkEQJY2FU4480wEQJaeiS5krxEBkKU1Rg0234MAyNI9qKHPLhEAWdpl2OH0AAIgSwPg4NKmEABZ2lQ44cwzEdgnWUqfGbCfEXgmyguXTZ9kaHx6QpvNn4SQT7HES/RpBflkhG678v3NkaUp8V1KzBp5Vpn2an/M51DKp5squxZ3gj+Noj8p5WwEWXKA4BAI9CEwjSypj372CVrw+cc/xrlg5x40rXw3a4QsGT3q+1QgSwaZJRzofL8vvkvwQtlA31FLx6/3J95YydjgvF9FzqvvzoEsqWTCLhC4E4EpZIkK1MCAu1P1i7rpYvcilWtTc+edOlaWlhjoRr7fGd9leJcIil7RTB+nFgLzXCup9q2CHLVwwMpSCxWcAwJ3ITBOlvgOZaVkKd2Jvqaw3hWAJXS6czIFWVpC8KwNzXy/M75W8puOyHb36OuF/oAsPRb37zzWPfUen6Tm0AIZQGAYgcE8dM/qDwcuWvm9Ankcw2TEt9cEK/cJIRX0Qzjk5e1kYznfheu3c+guX9l4mpgPsU/dLzYy11mvORf7yR2isiUr8DIOXbiqi4UYTFveVl2Hd4cwG+7ZvFowPIQD4aDslfhpX2ObPPlIPCPG1v/SpqgtmLhzEicd/9Lkxj1tU8Mug5+zmTUZTFzOtYwZfmdJ2SP5xBN6Hh9RaMZU8C+26bxsvjen5Nk4sO6Iq/JbZGi5NE6MfWmMWizEJuXTLDGLAIjfZbwa3WJb9oNrSMZN14koQ8U+t1F2+3xtBfamc9p+1i82B29b42asGUMlk3EumCgZGZNYb7/C+XQOpRJqnw9BYp9dU32Pl2s4f0gdyC3MDt5ZMnDgAAj0IzBIlqibKtDxWBWB40cXzp/ncKQJKBWCPHi5HS2fqz6x6KU2Tm4srrkYWVmpoLjCntsyUZIiz8XC2qEKkbKlLO0nW3KfIAUp6pT9voLdj+34FeunYFvsGpfQbEE+Cl6pRU1sruEsZDRjIjhZu5oFXQiXi0PG0Mehaej4SWt3siuRwJAJg+BV7CwTBPWX3BCbRwjTMFnqwZP9jbYUO44hjpGrikfTH30DENtmTDn36Jh9FyLKbezYkPEpcWR8SX85l/qUY/YodAqn8chMaeHHVR2zKOXrcqYbE43b+RvLV7hmjSP5mtvNsEM25XgkgaM5peIdpH5kGRxTjbWLz/VUYmPzJfWVfK/qBWFV+mY8tS6HCciSAwSHQKAPgZvJUhTUnAhTMc8Dme8s83Gj6JlCQNfVBK9WlnzBMseuQETzTDFzhYhw8LaY4sZIcRuZ/I2tCoPsH3e7bTOC2W3CVGsvVybwUkhjoc22VxiNF/SozGAS8coTQjLFXFfW3bJrYik6ufinyUDlTDPnlM+kmEnHwATyKFkiNYSpe3zE9klOxXYml2lidfaa2EyIi2nPSFfnkhxvR84H7jbHxvoXJXr83cqJt9WP1SjCtxFCMhDTe32p7Cd7XIyMTzW2yV7J07EYpuslFgqf6LfxUctq6DV2tREAWWrjgrNAoELgEbJUBrQVmyaxtBKT2zSKnp1MeeDr5XYrthTa2EYmZiqcUoiqDo3CWsie2Jbs9TLYHtZjba1lNDTfdKqJ2U0SbGNLMuJfM3ahy6t6kegof6dMPlUbR5bouqy+6a3SY0287Yjzhx7HyIRRxd5NGA2bo1LCZuCxzXxkyU+qzr5ojPGBiYSsHqltylXOSfE/91d6Wj43ztmcj3JnipOPqiMX8S/1utOxPOZVN0XU1dvaqBtvJUvePva35FR9o2IhGY9hXy3Q59NjSR5nVKNaehu6rDEBZMkBgkMg0IfAnGRJBnO6Y3WDt1H0KgIid9o8SZQ7X5lEUkEnPUxiks6BQt8qbs6WUug0SrbQVLY6GbrnLfuDmN0iyLclvxmXz3OIjzWKD+6nICqMrO8kumqj5fGkLwTW2/LIMeMs5Jh8yGQh2ZnzxMUkYauIBNtRcGgb9jyy5MmRw5BWAmp7i5UT4tKIU00uokQ1Pj1hKQpn2NMx+grnS3nfKhJA/TMHpMzb72LabPPClaXRnGrZa1CcEMPYXvJe3RiS7pz7RmhuLzeA6WpDl+sGsuQAwSEQ6ENgNrLki5wuxlF5o4iYScsV7FSU4mRfD3i6JhNzQ25Ul1dOKrsatlAb/8hEF3k/qTVk9AE8dL6yTU1gQ/0mXRNZbhk/vq8TydOnElLZUWPemnB9/NK7a0queh/Fnp16lHzIZEhWhfSEwbGTO23dVnLOnGvJcOY8lSxJPudVI030bc5ls75JvCbEpYqlELSahEn8rpeOyHTWN/NOHq/50W/x43rRLy83bG2N78rHIm9m091j0jLu+3Oqx5aG79lW448ar7GB9p/a6XxJEhKGaaz0P6bL2swOyJKBAwdAoB+B28gSvxSsB7CIpoGsCIc/bvSRYk1/6UHXVUGP/YkQcfERciSTjT82j1XUygnZkeTKi6SmAJH9rEPLoH6lMBlbY5+GPwLF5K3HyB9PFtRumGw+qr8qFD8VzrGrwihJahT8qk1NIEmfxjASZk1s2mYOnPUTgDuOMch50BaTbFL++jxrdJtClgqZjwIEV/XouYFXbBntsXf/zoBGDmTiL3o0pl6POs75rs4ZbZzDsmpnrs15wJjTy+4il/20k3sjF9lGwoxXSCflq+h5cFvnNOe9/iMBl1MpN2ycSwz9uOGcJvIc8zTlUiFj8brkL+eZznl1k1npFYyjbJ0zChOQJQUGdoHAEALjZEleDo4TgfxlT3knm0lWjQAAHzZJREFUpRR+O2Ec+B0Z+uu3//wT/+mvTCaubZRLg57/1DUXDrZcD/rDkd95YHuoSUNedroUIypARpYuaE5GLkiN805GKWxZ6cQdJ1tjJn+pNlFSsxnZWQhfbJPv8rmDFNi0MhOLcsGLzn2cw/9c4jsmEvNS0PO5jJVMJNLW6m7aOHLS2hffd2HZUadM9tm2tt404bWvtdRPIUvyGCvjRn8VmvLJ2iwTXdJkbRGb5C9E2RqXX2mMubicruqv7pIc3y7m5ZAtQvLuz98Weq1zKc+tnuRPqR+6zkR/BDc1Riqf2/la/sy+ZcvUcw5vRzhsHOs8t7jrOlNutFLuSE1V/p7O4arGnMVN4RFtUmMvembsOp3x0wFTw412QGAMgSlkaUwGrgOB9yCgfv5AG6DutvXpqfvTyNJUabZdXu2xp8tjY3f+2YfVO0PPVgj5i0IAK0uLCgeMWTICIEtLjg5sG0JA/x6NaZff8TFnJx88jSzFlbCexyHVuzuTrX2koXs/5hFR6LtKBECWVhk2GP0OBECW3oE6dD6OAD8mqciH/nHT+7Q8iyylRzPyuKXYFs/rx1HlypP3Prv6F6CfrBLil4UAyNKy4gFrFowAyNKCgwPTRhBovFdiXjAf6d5z+VlkKarz77LE91bsOyk9Rs11Wr/nVRHNuZRAzloQAFlaS6Rg59sRAFl6ewhgwMIQeCZZWpirMGfnCIAs7TwB4P50BECWpmOFlvtAAGRpH3GGlwG/4I0kAAJTEQBZmooU2u0FAZClvUQafmJlCTkABCYiALI0ESg02w0CIEu7CfXuHQVZ2n0KAICpCIAsTUUK7faCAMjSXiINP0GWkANAYCICIEsTgUKz3SAAsrSbUO/eUZCl3acAAJiKAMjSVKTQbi8IgCztJdLwE2QJOQAEJiLwFrJE376qf5xvosnzNOPfm7n/xwD5G01v+q0a8w0o932oeQDaqJQJcZ+fLL0xVyb4WyKdfrfqpb/7VJTvZs/+1lb9XblXAgGy9Eq0oWvVCLyaLJVC8UaypD5Ueh9ZUj+G+AayRBiKXvblPj/enbov/tzGxLjPS5Zemyvr+9abwmfCD3Su/iYh5qDc3DCRfSc5BVl6dw2E/tUg8GqyRMDQpPVGshSNuOmOuxXOd60WpMllneTI4agnDnfpaYcT4j4vWYqevCpXYm68eVzdGbhyEzWw0sKxO6zUR8mDd5IjHx6QJY8IjoFADwIgSz3AjJ5+1QToDdkKWWL85C7bu/ms4w2TpUQ41kmWwmcXuss5HAdWl+KqUnfqAsjSfIMDZGk+LCFp4whMIkvq8UX1LSu1SlSWyOu7Q3NN9WnCqya0csfJk0C+uzyEgzyKYiFFx6FZUI2sz1SYzQqN8bP2wdraIkt87hD1u29+Kbu7T/v4KdsdiUOcND6tJjkq9if5UQe1zXiJ/jJhZtnRJodXCPoRSOwjH6FV57lP0V1kk129mCl8lO/prlrJb2ElDtNWfBKfVVyy3/qba84+8z22Yzi34m70hTBpZUn5FONQYauuHy/XcP6QNtb3vMqQcVT253PR95bfgs0x/PnfBR/eCgklGUqminnUfT215AogQzGUNiHoHMv+lMvT9ijvxR9lk/SOePL4qMiSwUnG3Q04iw7Z5rwSeyKmGsPUUPtt4p8xFxu6cHU22vog7Th2bpySnuw751G2sZH7KveMXeKf2oIsKTCwCwSGEBglS2pQRjlp0kyFo0ygaZCnST4NfF00abDnAiCFoS4+ZKcrKkkOF62PYyqYsSG3E2KRbJEiK+3P4Yudp+sygchjESEbIs9fz8csxGxYR/YrHYs93r7rqfibi1+UF/EVGQ5roy4fJPy8Hiq+Hx2TgaQr6slxYNn5mCfNLEcm0eyz908wL36Qj749HUuM7cRtY8STbO6fHTQ7BiuxMeI1lCeCp+Rr1sE+6bgbbelgnCy5HHe5mB7xFpzyOMl2NbAlW7tw/sYGRZne7nis/D66eCdMGnrVRB9tkZibeCi56fo9MdR9ih0NiOtTcpPAdpQ8TU2jrXSOrivZbswkn+Q625NxF1kKZ2+JwqEQJMkbqS8pd7ONamwl/YlcxfgkkiT9kpzcL+qmvmKvHAuxFr2HcIi173RNxPTf/kg3Y0TS800Ztx2okd7VeAyy1EIF54BAA4FpZMkPZnXsi5cQESlQdF2KRTLAFrSGUa4AxhZ20qQzoVOTHsnMkwuTOjn2BSl256KYJoZYaJRP+bo7F8/n/7g4aT9ln9ro62lfJil6d+HERC7aIXbGfjJpZD1+J00ARVYpsFUR1nIdhoSnsddjrO1nG0ys43WHT3Vdin6rv9fn/UzH3k5zPJYno3Fv65xKlkoMdEwSbiYWmuSxSp+v8fT1IuR+BFv22+qQnB6KiZvkKSfU2KzwHMuB5Le2o+VXG2V3Nuc969QraYQf22lyTHJf+exjTu2Vj1GWGxfOkvb7jBqbuO9kmPpEOnnV1wivc8PkM7f19ZHaGDzEb6vD2ECydF4aQ/IByFKGAjtAYBiBUbKkuqdBm+6azB2wunOVlxhl+bdZPH3BUzpoVxcmvja9EKQCQXddUtCqgumLjerDj4Xkrq1MiN5IO5GkAscrKVoG26CvW5lKt9jrVZnjRgFs4CVkUPwo2zhx1EU7qrAYW//IBBM3Zbf2NxPYsf5en3GyPmAfyQ8heQ2/jQ+jca/VxDPjZKn0q+PaiI+/gaDurt23czjnx68j2Db8JpEmPmyjP0fHKU81yaHWldyxGDbyqIU5mzK4yWRJSF9ZFY0YZ1u9P0posz4xUdX9877qa3YrHOLVFBPqqzAs4ypi2kPosnCPVwPf2Jb1i50mp0VWw8a6ncsx6au2IEsKDOwCgSEEppAlKUI0ydMgVXdyVfGyBaAewFIMlQxv4F2FQCaYVLBoEjNERd9dloKUiEvsO2CPt4+OrZ+kTybxZvuikwqsI0aCcbxmyZQX1iiADbyILDkdRVKSIcVYzttYWf+ojYn1GGZj/SeSJfZNVt/IRsG54bf2IRGZobiL53Y7hSwl2TKhq5g0bPI3EKJN+/J1OYerXKCJeSAfmzp6xpWJmShI9qaJXuFTyR2PYSLlRYbGX7RN2mqyJOSSyEe0tchP+iw2pFPGDflgr+taYN7R6jOswiE2TJhlstQ7tnriQLoSnmXccRwkn8Uep7+JqWtDFp7i4zpZnSw2D9UTkCUBHVsgMILAGFmqJhxfjKpibAts6m+LV6vgGTNvLgRWZ5SlC2TS50iI0eGLGFtj7vaNhVGDemlXCqQq6tw8PVqxL3TLnSMVMTNJTCEQqcCaAmh8KbYfGwQwTcrOdrHVFNtGGxPrMczG+k/3tUwu3Ecml4bfZmIhe4fi7mOajkfJksEh9tExaU2ADSxityznGjrxiUwYwbbhN3XL8ugo/c+ds2Qh2ZrxreQ27Hby8jjIq4v1GFDW9O+6cSBjNhK6bF/s7fSP1qfYJ/vlce4xJ7dX1+kc1zG9r5pkwutsLE3quCai5zBz8k1Oi7CGjXU7nZfS0W5BliweOAICvQhMI0uF7FTkpyoMvsDy5JHvePg6Fdci1xh4QyFIhZRleh3+WN2hpiKVHkcIafGrOnZiMRbWZEnIU9aZinR3ia+Y+yIZMWHfCb9SLAlfM3E6vYyNmUAaeMVedSEuk0WKo52IfLG1xxxHHTey3ZKRgpnPg3qiK/K/wvlS1lWKx6wz4+GOG34XmVGK5FrBl67zxG4IZ1E6/hjO++2OBdssn6/TSk72pdh3/CgvXWcznMx4PmPb8Jv6UZ+UV30TN/mfbUj4ZDsrudNimPtn4+/Y+ewsKcqxczVC+Ri1+Hrkj8USifskWxkHeZUgyrC4DY8tT+jEBiHVWq4QOX2uqUvXlSiwihXbZNql8WJqRTGG9kCWHCA4BAJ9CIyRpTzAeYI5njr6LZRY+P/056P6q4xY1PSEqpaEpfjIRHsZ+K0UPbHQ0rpMePI+UBeuRh5P+KbfMXQnsU0mSmub/KaLKZ5GhiUBFj8rqxQ6Z2suXGll6XoRmxRJoTtqLU/stRrjkUzCNOkKlv8rYinY1DbLJJHaWNm1PBWzqNDgLH/Z05q8vH7tT3rJ2+si3DPeTqZy3fbrQhdXv6K///Qvzm+HfSbG1pZm3JW+uDu6spQncrbl1NEfG0S7ZGIyuJ/OdhVS6SP/cp6oC3E345P0WMzUudyt+BrtsNgljIlwablCnPQ5GndFFuF9ujp5KdeMnyoPBQfxIR9nW2XH6clxY//FPl69S3nMuBNutr+uT/XYtvkvFlRbISL0m05al21pfU+yW5hTL4dv9CPbZ8ZZyaFC9p0NThb9FEn8aYqMf0+NtObTEchSAxScAgItBMbJUqsXzm0RASr+fRP3Fh3u8WmcLPV03OHpvILlfM+rYO78+w7LquqoDUKW8gv3oz1W2wBkabWhg+GvRgBk6dWIL1cfyFKKDcjSxByNpCKv/Ng+5WcQ7Pm3Hfl3ooYMAVkaQuema9+5qXVPY0xSPcDg9EsRQB6+FO5FKwNZSuEBWZqWpumRU/0INZ7Pj5imiXpyq/iIduIjuGgJyNJs8QBZmg1KCHo3AiBL747AEvS79312/igOZGl6Ttp3dNJ7M/3vJ02XO0fL8k5RTeh65VfvA/W23MQFPIbbRBjhxCsQAFl6BcrQsSYEQJbWFC3Y+ggCIEuPoIe+u0IAZGlX4YazExAAWZoAEppsAgGQpU2EEU68AgGQpVegDB1rQgBkaU3Rgq2PIACy9Ah66LsrBECWdhVuODsBAZClCSChySYQAFnaRBjhxCsQAFl6BcrQsSYEQJbWFC3Y+ggCIEuPoIe+u0IAZGlX4YazExAAWZoAEppsAgGQpU2EEU68AoFJZIn+nPaGP799heHQ8QIE+CcFen548AUGvEXFO8hS/RtXT8K+7zeE+Lx8MuMpv5PUqCO1328J+W6VgiztNvRw/FYExshS+R0VkCXC9pZfAr41GItqr765BbL0xMio37jKv2/1auyjPhnfbE+2ZR7Xt1FH0jce46ext/IfyNJWIgk/no7AGFkiAxp3hE83bJEK0kTylLvuBftbPhS8SCNnN2rTK0sNtIjIzEyOGmr4w8BCypotln0y1sFX4PRCFECWXgg2VK0bAZClG+JHpFF9LfyGruts+qRHQQsHA2TpSQFa9U3Xc1bcnoT0ZLEgS5OhQsO9I3A/WVKPCg6HUFYf9Pl0F1mW4A/lziy/I9Fzp6kKa/lsAX/fiUlLfL+i+rRCltv69IKa/FU7L6PoK34ZH6K/B/nWFMukc/q8/saUtDmGP/97soveDcl3qQUzb0vKz2K3tkPalnOCZZGX48L+dp/FlvM3zn6FZ/ErXit6g2ojeqm3wpF8Mo/sih2xj/8SfQvnZNFwP7b6aZthsiT4pTjSKqPCpuBXfJCVyH5/Q6BrOR+iawr7OT0lWxt5IvlrbHhccfG5C1eju+1jbh/t8I+8Ta6JD8XG3NeMzxAmjQ+Nt9KTcr3EUt7pkjGQdbbsLabdt6fsqMYWX7ttPNdmgCzVmOAMEGgicBdZooGqipUM6jxRpkIvBYUU58FdzPi6nMO1HOa9UtzUhBRSwTp+HDMxS+2UHVSMhcQEXvYXQuUKHk8KSUbpE4tftptt9scy+UWDqVjmCYZ1RBzUBHr86ML58xyO/F5IKrBFJzn+7Ry6S+ttCGu32CIYZVuGJqIBW5KdYgtP0NkfRQw4thYvjonYzXrEpthW7xcikXATX+TDpXI81C8nyRN3hslSUkwxzPkezzks4qnPcxBCOphXVR7FzvOTJcmZQ34/KflC53PM07k5/m8xkjyW8SrH5YaE8kAw9fWCjqUvjzt3wyL5k7HL16UWlP65DelTtkSiNVAb5BrhE23qs/dhAF0+6bE1Np5zLP14ro0CWaoxwRkg0ETgHrJki2ASmwpxKUZ1AeaCJMUlTganc2jRA5JIBaHIs8WNXTEFNBWGUjBTG7I1F83GBKT1RHm50Kj+co702cdwHgtzzO29TTKxCpGImq4n7Sv7lzcNu/1kqv2gfq5P05YGZiTHkaccMz/ppJgWP+xxxEL7nleWRnDu7ZfxeO7OFLJkSWa0h/GWXKGYMo4j/sbelDeqb5ansZ/D7SpPeOXF6J5BkcmjJM/XiMrH2EfboVaWzLiK4iifecw0dHkCnuKlx5gbHxI/jbfDqorRgL2PI2jHUlUzesez9tGP19oqkKUaE5wBAk0EbidLvsiwWD94dTGLU8mlC93pWB5f9a6ksDxXqKrCGpsZHam46MmZJJEcITgN27UebitL7WWrJr2DyGI7ZcP+m+VyPlfIhDT2k+M1dHqSKM14r2G3n2C1H9TL9Wna4guyV+xkxMuVntQnTYR6JVDapnMmLmM4q+umnzfvSceTyBKvJOXYxon91IWyanMNnUy8yp+SUxEXIaU+H6JjDezn8LcRv/rG5nFFTZmVbu9jykfCyIyH1K4vF1LuFSyT9Sxb5Izq9rZI/hbyUZElzoHa3sfx0xKaY2tgPNscc2NSCw4hgCw5QHAIBPoQuJ0scUGTiUAEV4NXF7ivcL5cmdwkshHJkzyiEBFmO1rcHFli/VVBNXJGCmJsK8XVGMMHlY9iQ1m6N3fArfYil66VO+M86cp1s23YPQdZGrKP9Df0GjzL+yAJ9xb5UhOgkIMxnEl3o5/B5HkH08gSExweB9dLXCVNNhMWalWECOZQXvlY9mE/h8suflFkk9g8qKsmFjX56COE1JffoUrjQuHasCu17yFLUqcqv31u++Pa3qZPEjtjb8PIO04JSWqOrebYjTgVcjdFJcjSFJTQBgiEEG4nSzxJyMQnKOrJn8/lIpwnjlKQ0uQinRvb0eImREWKA8v2kxLJkUJa9GeNWk/Dh9guv1tVFai6iFNBlQJdtc9azcpBfjylL5v9ht288pDJofaD+ro+TVtcG9HZiJdcMitLlc6EhxA/65fCagTn3n7ZiOfuTCVLCYsuXNUqqUyoMb/z+3gj/kZvpF95LN0Tm0ddr2L2HLKUJnoZm2x0pdv5mPMutdeY6P0MgeBOcv2Kb5I9eXy0VvKcvZUNA/ZmG+/dcbr7HsPJWEtqnM+i+9s5nD/lwG5BliweOAICvQjcQ5bkfYD8l1ZS7IUkiDaeJOILznni4MKm+0pzs62KhSussbEnACw7F0hPKKYWREME1eMUrY9e3k0EoPjijnV74xwfTMVC7NZ2UV+Fq9Mld6W0JB/j4q6LOdJOF91CVhqY67iw/bmvO6bJJedEkiVt6Zr2J67KcNuhfmL3M7eTyZKsJMUX+OUvCxlnv0I55G/0ha4bot/Afg6ndfxYXm3bHIp4LGSf2B9agRES5Xwk20pOU25K/nBulbEdSZ7gLrJL30xkxRWX/5L3eXzIGBN9sZ/DqsSIV8qH7BW9927ZXxkvyRZFCJ0/WY3vR7mlcMkN0w7IkgMEh0CgD4ExsmSKil7ilUmBl591ESu6UhGz11IRzUWgNM57tU4uvKyLJiIuCvJ8PsvrO6/fL4hyTlf1J8X2uX6aPNI5/V5JfmzA/aPB1tb43gr3+6d/CWJb3Gb7spdxZxyL1FwmlS50goGOBcvUdh8v13D+4L806sWEpV/iu2Tir9jqMG/iJZMU9z0V+2LMiXRp3XoiEoKQ9ZaC3t9P9JW27Pqsm+lkyT6KYzQJd5vz6YqOT8kr8YkxJHJRYz+HgzZXI2FxelRez6FPCHrKrWM4X9w7XTn2JU+7T22Ti7POpepnQ1o4Wi80/mZ8TK0NWT+TPVpZGrDXqr/xyPmjx9Z//qkxXpX4bGfKqXbtSe1BlhRu2AUCQwiMkaWhvrj2OAJlFWdIFhdORzaGeuDa/QjcQpbu14KeQOD9CIAsvT8GsGAlCIAsvTNQ5dHTsBUgS8P4zHsVZGlePCFtuQiALC03NrBsYQiALL0vIPGxyNASebEMZKlg8fw9kKXnYwwNy0AAZGkZcYAVK0AAZOnFQVLvE7Tea6mt0e9EqF87rhvizEwIgCzNBCTELB4BkKXFhwgGLgUBkKWlRAJ2LAUBkKWlRAJ2PBsBkKVnIwz5m0EAZGkzoYQjMyEAsjQTkBCzeARAlhYfIhi4FARAlpYSCdixFARAlpYSCdjxbARAlp6NMORvBgGQpc2EEo7MhADI0kxAQsziEQBZWnyIYOBSEABZWkokYMdSEABZWkokYMezEQBZejbCkL8ZBECWNhNKODITAiBLMwEJMYtHAGRp8SGCgUtBAGRpKZGAHUtBAGRpKZGAHc9GAGTp2QhD/mYQAFnaTCjhyEwILJ4s9X1ENfv/6I+YPto/G3Ljzrv03mjmhpqDLG0omHDluQiALD0XX0hfHwKLJ0uDkKofMb3rW4JT+0/9VM+QsV/hfDqHL2oyVe+QPFy7FQGQpVsRQ/vdIgCytNvQw/EeBNZNlqJTj67QjPePn+o53EXGFOjx1+w/hCzNYbeSjd1JCIAsTYIJjYBACCBLyAIgYBEAWRojS7wK9BBZYh0gSzb5XnwEsvRiwKFuvQiALK03drD8OQhMIUvX0yGtiqhv/ZmVFjp/DOdv8nipC1c2l1ZlDodwoH+xTbpgz0t7JhWxrZCTLFv5z+8xRZnHyzWcP1R7aqbkUJv08CtLGO3PLVW7ZP9BfQxafGXfxN6sRHZcu2yPImkKV/8NRcJe8NM61LtcBUvGV9ut+4hJO92CLO008HD7dgRAlm7HDD22jcAwWbKkwxKYSFS+gp6ojx9duNLEn8gPTfRqsk4TfyFMoUWEQnk/SMsWkhWICBQZuU3Wk2zuPjluTETy8Wh/H29FauSSk5Fs8oRNGqdtJpz5tMKWbU++CHEMIfbJ5IkJEB0rcpUIYySDLO/jGI6yguV9z7r3uQOytM+4w+s7EABZugM0dNk0AsNkKbleT/RpIs/v4LQmZU8oSJR/pJWOM5GJbb6dw1mITjwm2UKOEiHIBKIlM7bPxCk20GRnQn+Sqf+n+6fzhIfREZg0ip26v+ojJIZO1XKNrxE/095hzuRJY1fHqYFvbdpuzoAs7SbUcPRRBECWHkUQ/beGwL1kyayCGELDCLXOBZ7wD2X1hOQoUnC96JegPVlqTf6WdOSVJnl0JVvSMd6/jq+Vb8mXaq1XftRp2a2JjJfrfCX85PGl3jJ2IEsC7eQtyNJkqNBw7wiALO09A+C/R+BZZCmRlnqlpSINNOlLu2s4X9z7RZp0NQiCJy+k1636ZJ8n9M9t844nNYlw2dWrtCJ2POh3mrIA2qn8Nite3Fb7GvcVibTS2vpqHS1yWEnazQmQpd2EGo4+igDI0qMIov/WELiXLNHELKRET/ICEBMT+8iMV5akH7UtZOTr0uUXwEWMeTQV32fSL3+7/nRItpSVK5GTVqwm9JcOeVvsk1Pku1odo/OG9EnLsq2JTC3X+Noj7+tyTi/PN4hfrQNkqUQgBJAljQb2gcAAAiBLA+Dg0i4RmEyWDrL6I6sa6rhFlvIjN9WuhwAISTjmH21UoXCy5TFbfleHruu/SGMSoldlvp1DxytW4/2VbtrVpIZXvpio6NUlQx69CMGCbPoK50v8W0Etlzs4X2tSVl5+l5fKMw5GhxiQyJInrHJ1b1uQpb1FHP7ejQDI0t3QoeNGEZhMlj660MU/0ed3gGSSFvKRzitixHilCV/61Ss+qVl7BaRPtpF5Oo/+dIB/nDXe3wa72KHsF8LEeIwSkkzqIka8wiXvU52u6q8KE1aCr7FVVrOyLGnLxEvkxXa32mdd3uQRyNImwwqnnoEAyNIzUIXMNSMwnSy5F6/X7DRs3yUCIEu7DDucvgcBkKV7UEOfLSMAsrTl6MI3jQDIkkYD+0BgAAGQpQFwcGmXCIAs7TLsu3QaZGmXYYfT9yAAsnQPauizZQSGyZJ7F0a/NL1lUODbJhEAWdpkWOHUMxAAWXoGqpC5ZgSGydKaPYPtQMAiALJk8cAREOhFAGSpFxpc2CkCIEs7DfwO3QZZ2mHQ4fJ9CIAs3Ycbem0XAZCl7cYWnlkEQJYsHjgCAr0IgCz1QoMLO0UAZGmngd+h2yBLOww6XL4PAZCl+3BDr+0iALK03djCM4sAyJLFA0dAoBcBkKVeaHBhpwiALO008Dt0G2Rph0GHy/chALJ0H27otV0EQJa2G1t4ZhEAWbJ44AgI9CIAstQLDS7sFAGQpZ0GfodugyztMOhw+T4EQJbuww29tosAyNJ2YwvPLAIgSxYPHAGBXgRAlnqhwYWdIgCytNPA79BtkKUdBh0u34cAyNJ9uKHXdhEAWdpubOGZRQBkyeKBIyDQiwDIUi80uLBTBECWdhr4Hbq9CrJ0Op3CH//4x/DXv/4V/4DB23LgP/7jP8Lvf//7t+lH/mP8Ly0H/vKXv4Tf/OY3GBOoy5vPgf/+7/8Ov/jFL55GE78zh+Tf/va34Sc/+Un4+c9/jn/A4G058Ld/+7fhb/7mb96mH/mP8b+0HPjxj38cvv/972NMoC5vPgd+9rOfhR/96EdzUJqmjFnIUlMyTgIBIAAEgAAQAAJAYAMIgCxtIIhwAQgAASAABIAAEHgeAiBLz8MWkoEAEAACQAAIAIENIACytIEgwgUgAASAABAAAkDgeQiALD0PW0gGAkAACAABIAAENoDAd/7f//0/Af+AAXIAOYAcQA4gB5ADyIF2Dvx/OZZ5ETO6MhIAAAAASUVORK5CYII=)"
      ]
    },
    {
      "cell_type": "markdown",
      "metadata": {
        "id": "J-qhITwMeTKw"
      },
      "source": [
        "Customers belonging to 2nd cluster --> Best Customers\n",
        "\n",
        "Customers belonging to 1st cluster --> General Customers\n",
        "\n",
        "Customers belonging to 3rd cluster --> At risk Customers\n",
        "\n"
      ]
    },
    {
      "cell_type": "markdown",
      "source": [
        "**Conclusion**"
      ],
      "metadata": {
        "id": "k-k9scXkibCv"
      }
    },
    {
      "cell_type": "markdown",
      "source": [
        "Dataset was preprocessed and trained using the KMeans algorithm and as a final output, we obtained different clusters on the basis of RFM."
      ],
      "metadata": {
        "id": "HeN_R1hKiiaS"
      }
    }
  ]
}